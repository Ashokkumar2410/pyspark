{
 "cells": [
  {
   "cell_type": "code",
   "execution_count": 6,
   "metadata": {},
   "outputs": [],
   "source": [
    "try:\n",
    "    sc.stop()\n",
    "except:\n",
    "    pass\n",
    "from pyspark import SparkContext, SparkConf\n",
    "from pyspark.sql import SparkSession\n",
    "sc=SparkContext()\n",
    "spark = SparkSession(sparkContext=sc)"
   ]
  },
  {
   "cell_type": "code",
   "execution_count": 7,
   "metadata": {},
   "outputs": [],
   "source": [
    "mtcarsfile=\"../../data/mtcars.csv\""
   ]
  },
  {
   "cell_type": "code",
   "execution_count": 8,
   "metadata": {},
   "outputs": [],
   "source": [
    "mtcars_df = spark.read.csv(mtcarsfile, inferSchema=True, header=True)"
   ]
  },
  {
   "cell_type": "code",
   "execution_count": 9,
   "metadata": {},
   "outputs": [
    {
     "name": "stdout",
     "output_type": "stream",
     "text": [
      "+-------------+----+---+-----+---+----+-----+-----+---+---+----+----+\n",
      "|        model| mpg|cyl| disp| hp|drat|   wt| qsec| vs| am|gear|carb|\n",
      "+-------------+----+---+-----+---+----+-----+-----+---+---+----+----+\n",
      "|    Mazda RX4|21.0|  6|160.0|110| 3.9| 2.62|16.46|  0|  1|   4|   4|\n",
      "|Mazda RX4 Wag|21.0|  6|160.0|110| 3.9|2.875|17.02|  0|  1|   4|   4|\n",
      "+-------------+----+---+-----+---+----+-----+-----+---+---+----+----+\n",
      "only showing top 2 rows\n",
      "\n"
     ]
    }
   ],
   "source": [
    "mtcars_df.show(2)"
   ]
  },
  {
   "cell_type": "markdown",
   "metadata": {},
   "source": [
    "### Aggregate functions\n",
    "Two aggregate functions:\n",
    "\n",
    "* aggregate()\n",
    "* aggregateByKey()\n",
    "#### aggregate(zeroValue, seqOp, combOp)\n",
    "* **zeroValue** is like a data container. Its structure should match with the data structure of the returned values from the seqOp function.\n",
    "* **seqOp** is a function that takes two arguments: the first argument is the zeroValue and the second argument is an element from the RDD. The zeroValue gets updated with the returned value after every run.\n",
    "* **combOp** is a function that takes two arguments: the first argument is the final zeroValue from one partition and the other is another final zeroValue from another partition.\n",
    "The code below calculates the total sum of squares for **mpg** and **disp** in data set mtcars.\n"
   ]
  },
  {
   "cell_type": "code",
   "execution_count": 22,
   "metadata": {},
   "outputs": [
    {
     "name": "stdout",
     "output_type": "stream",
     "text": [
      "\n",
      "   Mean of mpg  : 20.090625000000003\n",
      "   Mean of disp : 230.721875\n",
      "\n"
     ]
    }
   ],
   "source": [
    "# Step 1: get some data.\n",
    "# Step 2: calculate averages of mgp and disp\n",
    "\n",
    "mpg_mean  = mtcars_df.select('mpg').rdd.map(lambda x:x[0]).mean()\n",
    "disp_mean = mtcars_df.select('disp').rdd.map(lambda x:x[0]).mean() \n",
    "\n",
    "print(\"\"\"\n",
    "   Mean of mpg  : {0}\n",
    "   Mean of disp : {1}\n",
    "\"\"\".format(mpg_mean,disp_mean) )"
   ]
  },
  {
   "cell_type": "code",
   "execution_count": 23,
   "metadata": {},
   "outputs": [],
   "source": [
    "# Step 3: build zeroValue, seqOp and combOp\n",
    "zeroValue = (0, 0)"
   ]
  },
  {
   "cell_type": "code",
   "execution_count": 24,
   "metadata": {},
   "outputs": [
    {
     "data": {
      "text/plain": [
       "[(0, 'model'),\n",
       " (1, 'mpg'),\n",
       " (2, 'cyl'),\n",
       " (3, 'disp'),\n",
       " (4, 'hp'),\n",
       " (5, 'drat'),\n",
       " (6, 'wt'),\n",
       " (7, 'qsec'),\n",
       " (8, 'vs'),\n",
       " (9, 'am'),\n",
       " (10, 'gear'),\n",
       " (11, 'carb')]"
      ]
     },
     "execution_count": 24,
     "metadata": {},
     "output_type": "execute_result"
    }
   ],
   "source": [
    "list(enumerate(mtcars_df.columns))"
   ]
  },
  {
   "cell_type": "code",
   "execution_count": 29,
   "metadata": {},
   "outputs": [
    {
     "name": "stdout",
     "output_type": "stream",
     "text": [
      "+----+-----+\n",
      "| mpg| disp|\n",
      "+----+-----+\n",
      "|21.0|160.0|\n",
      "|21.0|160.0|\n",
      "+----+-----+\n",
      "only showing top 2 rows\n",
      "\n"
     ]
    }
   ],
   "source": [
    "mtcars_df_1 = mtcars_df.select(['mpg','disp'])\n",
    "mtcars_df_1.show(2)\n",
    "seqOp = lambda z, x: (z[0] + (x[0] - mpg_mean)**2, z[1] + (x[1] - disp_mean)**2)\n",
    "combOp = lambda px, py: ( px[0] + py[0], px[1] + py[1] )"
   ]
  },
  {
   "cell_type": "code",
   "execution_count": 30,
   "metadata": {},
   "outputs": [
    {
     "data": {
      "text/plain": [
       "(1126.0471874999998, 476184.7946875)"
      ]
     },
     "execution_count": 30,
     "metadata": {},
     "output_type": "execute_result"
    }
   ],
   "source": [
    "mtcars_df_1.rdd.aggregate(zeroValue, seqOp, combOp)"
   ]
  },
  {
   "cell_type": "markdown",
   "metadata": {},
   "source": [
    "### aggregateByKey(zeroValue, seqOp, combOp)\n",
    "This function does similar things as **aggregate()**. The **aggregate()** aggregate all results to the very end, but **aggregateByKey()** merge results by key."
   ]
  },
  {
   "cell_type": "code",
   "execution_count": 31,
   "metadata": {},
   "outputs": [
    {
     "data": {
      "text/plain": [
       "['sepal_length,sepal_width,petal_length,petal_width,species',\n",
       " '5.1,3.5,1.4,0.2,setosa']"
      ]
     },
     "execution_count": 31,
     "metadata": {},
     "output_type": "execute_result"
    }
   ],
   "source": [
    "iris_rdd = sc.textFile('../../data/iris.csv')\n",
    "iris_rdd.take(2)"
   ]
  },
  {
   "cell_type": "code",
   "execution_count": 33,
   "metadata": {},
   "outputs": [
    {
     "data": {
      "text/plain": [
       "['sepal_length,sepal_width,petal_length,petal_width,species',\n",
       " '5.1,3.5,1.4,0.2,setosa']"
      ]
     },
     "execution_count": 33,
     "metadata": {},
     "output_type": "execute_result"
    }
   ],
   "source": [
    "iris_rdd = sc.textFile('../../data/iris.csv',use_unicode=True)\n",
    "iris_rdd.take(2)"
   ]
  },
  {
   "cell_type": "code",
   "execution_count": 37,
   "metadata": {},
   "outputs": [
    {
     "data": {
      "text/plain": [
       "['sepal_length', 'sepal_width', 'petal_length', 'petal_width', 'species']"
      ]
     },
     "execution_count": 37,
     "metadata": {},
     "output_type": "execute_result"
    }
   ],
   "source": [
    "header=iris_rdd.map(lambda x : x.split(',')).first()\n",
    "header"
   ]
  },
  {
   "cell_type": "code",
   "execution_count": 41,
   "metadata": {},
   "outputs": [
    {
     "data": {
      "text/plain": [
       "[['5.1', '3.5', '1.4', '0.2', 'setosa'],\n",
       " ['4.9', '3.0', '1.4', '0.2', 'setosa']]"
      ]
     },
     "execution_count": 41,
     "metadata": {},
     "output_type": "execute_result"
    }
   ],
   "source": [
    "iris_row = iris_rdd.map(lambda x : x.split(',')).filter(lambda x: x != header)\n",
    "iris_row.take(2)"
   ]
  },
  {
   "cell_type": "code",
   "execution_count": 45,
   "metadata": {},
   "outputs": [],
   "source": [
    "iris_row_tuple = iris_row.map(lambda x: (x[-1], [*map(float,x[:-1])]))"
   ]
  },
  {
   "cell_type": "code",
   "execution_count": 47,
   "metadata": {},
   "outputs": [
    {
     "data": {
      "text/plain": [
       "[('setosa', [5.1, 3.5, 1.4, 0.2]),\n",
       " ('setosa', [4.9, 3.0, 1.4, 0.2]),\n",
       " ('setosa', [4.7, 3.2, 1.3, 0.2]),\n",
       " ('setosa', [4.6, 3.1, 1.5, 0.2])]"
      ]
     },
     "execution_count": 47,
     "metadata": {},
     "output_type": "execute_result"
    }
   ],
   "source": [
    "iris_row_tuple.take(4)"
   ]
  },
  {
   "cell_type": "markdown",
   "metadata": {},
   "source": [
    "### Define initial values, seqOp and combOp"
   ]
  },
  {
   "cell_type": "code",
   "execution_count": 48,
   "metadata": {},
   "outputs": [],
   "source": [
    "zero_value = (0, 0)\n",
    "seqOp = (lambda x, y: (x[0] + (y[0])**2, x[1] + (y[1])**2))\n",
    "combOp = (lambda x, y: (x[0] + y[0], x[1] + y[1]))"
   ]
  },
  {
   "cell_type": "markdown",
   "metadata": {},
   "source": [
    "### Implement aggregateByKey()¶"
   ]
  },
  {
   "cell_type": "code",
   "execution_count": 50,
   "metadata": {},
   "outputs": [
    {
     "data": {
      "text/plain": [
       "[('setosa', (1259.0899999999997, 591.2500000000002)),\n",
       " ('versicolor', (1774.8600000000006, 388.4700000000001)),\n",
       " ('virginica', (2189.9000000000005, 447.33))]"
      ]
     },
     "execution_count": 50,
     "metadata": {},
     "output_type": "execute_result"
    }
   ],
   "source": [
    "iris_row_tuple.aggregateByKey(zero_value, seqOp, combOp).collect()"
   ]
  },
  {
   "cell_type": "markdown",
   "metadata": {},
   "source": [
    "### Map functions\n",
    "These functions are probably the most commonly used functions when dealing with an RDD object.\n",
    "\n",
    "    *map()\n",
    "    *mapValues()\n",
    "    *flatMap()\n",
    "    *flatMapValues()\n",
    "#### map\n",
    "The map() method applies a function to each elements of the RDD. Each element has to be a valid input to the function. The returned RDD has the function outputs as its new elements.\n",
    "\n",
    "Elements in the RDD object map_exp_rdd below are rows of the mtcars in string format. We are going to apply the map() function multiple times to convert each string elements as a list elements. Each list element has two values: the first value will be the auto model in string format; the second value will be a list of numeric values."
   ]
  },
  {
   "cell_type": "code",
   "execution_count": 51,
   "metadata": {},
   "outputs": [
    {
     "name": "stdout",
     "output_type": "stream",
     "text": [
      "+--------------+----+---+-----+---+----+-----+-----+---+---+----+----+\n",
      "|         model| mpg|cyl| disp| hp|drat|   wt| qsec| vs| am|gear|carb|\n",
      "+--------------+----+---+-----+---+----+-----+-----+---+---+----+----+\n",
      "|     Mazda RX4|21.0|  6|160.0|110| 3.9| 2.62|16.46|  0|  1|   4|   4|\n",
      "| Mazda RX4 Wag|21.0|  6|160.0|110| 3.9|2.875|17.02|  0|  1|   4|   4|\n",
      "|    Datsun 710|22.8|  4|108.0| 93|3.85| 2.32|18.61|  1|  1|   4|   1|\n",
      "|Hornet 4 Drive|21.4|  6|258.0|110|3.08|3.215|19.44|  1|  0|   3|   1|\n",
      "+--------------+----+---+-----+---+----+-----+-----+---+---+----+----+\n",
      "only showing top 4 rows\n",
      "\n"
     ]
    }
   ],
   "source": [
    "mtcars_df.show(4)"
   ]
  },
  {
   "cell_type": "code",
   "execution_count": 53,
   "metadata": {},
   "outputs": [
    {
     "data": {
      "text/plain": [
       "['model',\n",
       " 'mpg',\n",
       " 'cyl',\n",
       " 'disp',\n",
       " 'hp',\n",
       " 'drat',\n",
       " 'wt',\n",
       " 'qsec',\n",
       " 'vs',\n",
       " 'am',\n",
       " 'gear',\n",
       " 'carb']"
      ]
     },
     "execution_count": 53,
     "metadata": {},
     "output_type": "execute_result"
    }
   ],
   "source": [
    "header = mtcars_df.columns\n",
    "header"
   ]
  },
  {
   "cell_type": "code",
   "execution_count": 54,
   "metadata": {},
   "outputs": [
    {
     "data": {
      "text/plain": [
       "['model,mpg,cyl,disp,hp,drat,wt,qsec,vs,am,gear,carb',\n",
       " 'Mazda RX4,21,6,160,110,3.9,2.62,16.46,0,1,4,4']"
      ]
     },
     "execution_count": 54,
     "metadata": {},
     "output_type": "execute_result"
    }
   ],
   "source": [
    "mtcars_rdd = sc.textFile(mtcarsfile)\n",
    "mtcars_rdd.take(2)"
   ]
  },
  {
   "cell_type": "code",
   "execution_count": 55,
   "metadata": {},
   "outputs": [],
   "source": [
    "mtcars_rdd_map = mtcars_rdd.map(lambda x : x.split(','))"
   ]
  },
  {
   "cell_type": "code",
   "execution_count": 57,
   "metadata": {},
   "outputs": [
    {
     "data": {
      "text/plain": [
       "[['model',\n",
       "  'mpg',\n",
       "  'cyl',\n",
       "  'disp',\n",
       "  'hp',\n",
       "  'drat',\n",
       "  'wt',\n",
       "  'qsec',\n",
       "  'vs',\n",
       "  'am',\n",
       "  'gear',\n",
       "  'carb'],\n",
       " ['Mazda RX4',\n",
       "  '21',\n",
       "  '6',\n",
       "  '160',\n",
       "  '110',\n",
       "  '3.9',\n",
       "  '2.62',\n",
       "  '16.46',\n",
       "  '0',\n",
       "  '1',\n",
       "  '4',\n",
       "  '4']]"
      ]
     },
     "execution_count": 57,
     "metadata": {},
     "output_type": "execute_result"
    }
   ],
   "source": [
    "mtcars_rdd_map.take(2)"
   ]
  },
  {
   "cell_type": "code",
   "execution_count": 61,
   "metadata": {},
   "outputs": [
    {
     "name": "stdout",
     "output_type": "stream",
     "text": [
      "['model', 'mpg', 'cyl', 'disp', 'hp', 'drat', 'wt', 'qsec', 'vs', 'am', 'gear', 'carb']\n",
      "[['Mazda RX4', '21', '6', '160', '110', '3.9', '2.62', '16.46', '0', '1', '4', '4'], ['Mazda RX4 Wag', '21', '6', '160', '110', '3.9', '2.875', '17.02', '0', '1', '4', '4']]\n"
     ]
    }
   ],
   "source": [
    "mtcars_rdd_map_header = mtcars_rdd_map.first()\n",
    "print(mtcars_rdd_map_header)\n",
    "mtcars_rdd_map_rows = mtcars_rdd_map.filter(lambda x : x!=mtcars_rdd_map_header)\n",
    "print(mtcars_rdd_map_rows.take(2))"
   ]
  },
  {
   "cell_type": "code",
   "execution_count": 64,
   "metadata": {},
   "outputs": [],
   "source": [
    "# # split auto model from other feature values\n",
    "\n",
    "# convert string values to numeric values\n",
    "\n",
    "mtcars_rdd_map_rows_s_f = mtcars_rdd_map_rows.map(lambda x : (x[0],[*map(float,x[1:])]))"
   ]
  },
  {
   "cell_type": "code",
   "execution_count": 65,
   "metadata": {},
   "outputs": [
    {
     "data": {
      "text/plain": [
       "[('Mazda RX4',\n",
       "  [21.0, 6.0, 160.0, 110.0, 3.9, 2.62, 16.46, 0.0, 1.0, 4.0, 4.0])]"
      ]
     },
     "execution_count": 65,
     "metadata": {},
     "output_type": "execute_result"
    }
   ],
   "source": [
    "mtcars_rdd_map_rows_s_f.take(1)"
   ]
  },
  {
   "cell_type": "markdown",
   "metadata": {},
   "source": [
    "### mapValues\n",
    "The mapValues function requires that each element in the RDD has a **key/value** pair structure, for example, a tuple of 2 items, or a list of 2 items. The mapValues function applies a function to each of the element values. The element key will remain unchanged.\n",
    "\n",
    "We can apply the mapValues function to the RDD object mapValues_exp_rdd below."
   ]
  },
  {
   "cell_type": "code",
   "execution_count": 67,
   "metadata": {},
   "outputs": [
    {
     "data": {
      "text/plain": [
       "[('Mazda RX4',\n",
       "  [21.0, 6.0, 160.0, 110.0, 3.9, 2.62, 16.46, 0.0, 1.0, 4.0, 4.0])]"
      ]
     },
     "execution_count": 67,
     "metadata": {},
     "output_type": "execute_result"
    }
   ],
   "source": [
    "mtcars_rdd_map_rows_s_f.mapValues(lambda x:x).take(1)"
   ]
  },
  {
   "cell_type": "code",
   "execution_count": 70,
   "metadata": {},
   "outputs": [],
   "source": [
    "import numpy as np"
   ]
  },
  {
   "cell_type": "code",
   "execution_count": 75,
   "metadata": {},
   "outputs": [
    {
     "data": {
      "text/plain": [
       "[('Mazda RX4', 29.90727272727273),\n",
       " ('Mazda RX4 Wag', 29.98136363636364),\n",
       " ('Datsun 710', 23.59818181818182),\n",
       " ('Hornet 4 Drive', 38.73954545454546)]"
      ]
     },
     "execution_count": 75,
     "metadata": {},
     "output_type": "execute_result"
    }
   ],
   "source": [
    "mtcars_rdd_map_rows_s_f.mapValues(lambda x:np.mean(x)).collect()[:4]\n",
    "### When using mapValues(), the x in the above lambda function refers to the element value, not including the element key."
   ]
  },
  {
   "cell_type": "markdown",
   "metadata": {},
   "source": [
    "### flatMap\n",
    "This function first applies a function to each elements of an RDD and then flatten the results. We can simply use this function to flatten elements of an RDD without extra operation on each elements."
   ]
  },
  {
   "cell_type": "code",
   "execution_count": 81,
   "metadata": {},
   "outputs": [
    {
     "data": {
      "text/plain": [
       "[('a', 'b', 'c'), ('d', 'e', 'e'), ('f', 'g')]"
      ]
     },
     "execution_count": 81,
     "metadata": {},
     "output_type": "execute_result"
    }
   ],
   "source": [
    "x = [('a','b','c'),('d','e','e'),('f','g')]\n",
    "x\n",
    "flapMap_x = sc.parallelize(x)\n",
    "flapMap_x.collect()"
   ]
  },
  {
   "cell_type": "code",
   "execution_count": 83,
   "metadata": {},
   "outputs": [
    {
     "data": {
      "text/plain": [
       "['a', 'b', 'c', 'd', 'e', 'e', 'f', 'g']"
      ]
     },
     "execution_count": 83,
     "metadata": {},
     "output_type": "execute_result"
    }
   ],
   "source": [
    "flapMap_x.flatMap(lambda x:x).collect()"
   ]
  },
  {
   "cell_type": "code",
   "execution_count": 84,
   "metadata": {},
   "outputs": [
    {
     "data": {
      "text/plain": [
       "[array([1, 2, 3]), array([4, 5, 6]), array([7, 8, 9])]"
      ]
     },
     "execution_count": 84,
     "metadata": {},
     "output_type": "execute_result"
    }
   ],
   "source": [
    "y = np.arange(1,10)\n",
    "y.shape = (3,3)\n",
    "flapMap_y = sc.parallelize(y)\n",
    "flapMap_y.collect()"
   ]
  },
  {
   "cell_type": "code",
   "execution_count": 85,
   "metadata": {},
   "outputs": [
    {
     "data": {
      "text/plain": [
       "[1, 2, 3, 4, 5, 6, 7, 8, 9]"
      ]
     },
     "execution_count": 85,
     "metadata": {},
     "output_type": "execute_result"
    }
   ],
   "source": [
    "flapMap_y.flatMap(lambda y:y).collect()"
   ]
  },
  {
   "cell_type": "markdown",
   "metadata": {},
   "source": [
    "### flatMapValues\n",
    "The flatMapValues function requires that each element in the RDD has a key/value pair structure. It applies a function to each element value of the RDD object and then flatten the results.\n",
    "\n",
    "For example, my raw data looks like below. But I would like to transform the data so that it has three columns: the first column is the sample id; the second the column is the three types (A,B or C); the third column is the values.\n",
    "\n",
    " \n",
    "|sample id|A    |B    |C    |\n",
    "|---------|-----|-----|-----|\n",
    "|1        |23   |18   |32   |\n",
    "|2        |18   |29   |31   |\n",
    "|3        |34   |21   |18   |   "
   ]
  },
  {
   "cell_type": "code",
   "execution_count": 90,
   "metadata": {},
   "outputs": [
    {
     "name": "stdout",
     "output_type": "stream",
     "text": [
      "[[1, (23, 28, 32)], [2, (18, 29, 31)], [3, (34, 21, 18)]]\n"
     ]
    },
    {
     "data": {
      "text/plain": [
       "[(1, ('A', 23)),\n",
       " (1, ('B', 28)),\n",
       " (1, ('C', 32)),\n",
       " (2, ('A', 18)),\n",
       " (2, ('B', 29)),\n",
       " (2, ('C', 31)),\n",
       " (3, ('A', 34)),\n",
       " (3, ('B', 21)),\n",
       " (3, ('C', 18))]"
      ]
     },
     "execution_count": 90,
     "metadata": {},
     "output_type": "execute_result"
    }
   ],
   "source": [
    "my_data = [\n",
    "    [1, (23, 28, 32)],\n",
    "    [2, (18, 29, 31)],\n",
    "    [3, (34, 21, 18)]\n",
    "]\n",
    "\n",
    "flatMapValues_rdd = sc.parallelize(my_data)\n",
    "print(flatMapValues_rdd.collect())\n",
    "flatMapValues_rdd_1 = flatMapValues_rdd.flatMapValues(lambda x: list(zip(list('ABC'), x)))\n",
    "flatMapValues_rdd_1.collect()"
   ]
  },
  {
   "cell_type": "code",
   "execution_count": 103,
   "metadata": {},
   "outputs": [
    {
     "name": "stdout",
     "output_type": "stream",
     "text": [
      "[(1, 'A'), (1, 'B'), (1, 'C'), (2, 'A'), (2, 'B'), (2, 'C'), (3, 'A'), (3, 'B'), (3, 'C')]\n",
      "[(1, 23), (1, 28), (1, 32), (2, 18), (2, 29), (2, 31), (3, 34), (3, 21), (3, 18)]\n"
     ]
    }
   ],
   "source": [
    "def changefmv(x):\n",
    "    v= [x[0]] + list(x[1])\n",
    "    return v\n",
    "print(flatMapValues_rdd_1.flatMapValues(lambda x: [x[0]]).collect())\n",
    "print(flatMapValues_rdd_1.flatMapValues(lambda x: [x[1]]).collect())"
   ]
  },
  {
   "cell_type": "markdown",
   "metadata": {},
   "source": [
    "## First Data Check"
   ]
  },
  {
   "cell_type": "code",
   "execution_count": 111,
   "metadata": {},
   "outputs": [
    {
     "name": "stdout",
     "output_type": "stream",
     "text": [
      "Column: model\n",
      "+-------+-----------+\n",
      "|summary|      model|\n",
      "+-------+-----------+\n",
      "|  count|         32|\n",
      "|   mean|       null|\n",
      "| stddev|       null|\n",
      "|    min|AMC Javelin|\n",
      "|    max| Volvo 142E|\n",
      "+-------+-----------+\n",
      "\n",
      "Column: mpg\n",
      "+-------+------------------+\n",
      "|summary|               mpg|\n",
      "+-------+------------------+\n",
      "|  count|                32|\n",
      "|   mean|20.090624999999996|\n",
      "| stddev| 6.026948052089103|\n",
      "|    min|              10.4|\n",
      "|    max|              33.9|\n",
      "+-------+------------------+\n",
      "\n",
      "Column: cyl\n",
      "+-------+------------------+\n",
      "|summary|               cyl|\n",
      "+-------+------------------+\n",
      "|  count|                32|\n",
      "|   mean|            6.1875|\n",
      "| stddev|1.7859216469465444|\n",
      "|    min|                 4|\n",
      "|    max|                 8|\n",
      "+-------+------------------+\n",
      "\n",
      "Column: disp\n",
      "+-------+------------------+\n",
      "|summary|              disp|\n",
      "+-------+------------------+\n",
      "|  count|                32|\n",
      "|   mean|230.72187500000004|\n",
      "| stddev|123.93869383138195|\n",
      "|    min|              71.1|\n",
      "|    max|             472.0|\n",
      "+-------+------------------+\n",
      "\n",
      "Column: hp\n",
      "+-------+-----------------+\n",
      "|summary|               hp|\n",
      "+-------+-----------------+\n",
      "|  count|               32|\n",
      "|   mean|         146.6875|\n",
      "| stddev|68.56286848932059|\n",
      "|    min|               52|\n",
      "|    max|              335|\n",
      "+-------+-----------------+\n",
      "\n",
      "Column: drat\n",
      "+-------+------------------+\n",
      "|summary|              drat|\n",
      "+-------+------------------+\n",
      "|  count|                32|\n",
      "|   mean|3.5965625000000006|\n",
      "| stddev|0.5346787360709716|\n",
      "|    min|              2.76|\n",
      "|    max|              4.93|\n",
      "+-------+------------------+\n",
      "\n",
      "Column: wt\n",
      "+-------+------------------+\n",
      "|summary|                wt|\n",
      "+-------+------------------+\n",
      "|  count|                32|\n",
      "|   mean|3.2172499999999995|\n",
      "| stddev|0.9784574429896968|\n",
      "|    min|             1.513|\n",
      "|    max|             5.424|\n",
      "+-------+------------------+\n",
      "\n",
      "Column: qsec\n",
      "+-------+------------------+\n",
      "|summary|              qsec|\n",
      "+-------+------------------+\n",
      "|  count|                32|\n",
      "|   mean|17.848750000000003|\n",
      "| stddev|1.7869432360968436|\n",
      "|    min|              14.5|\n",
      "|    max|              22.9|\n",
      "+-------+------------------+\n",
      "\n",
      "Column: vs\n",
      "+-------+------------------+\n",
      "|summary|                vs|\n",
      "+-------+------------------+\n",
      "|  count|                32|\n",
      "|   mean|            0.4375|\n",
      "| stddev|0.5040161287741853|\n",
      "|    min|                 0|\n",
      "|    max|                 1|\n",
      "+-------+------------------+\n",
      "\n",
      "Column: am\n",
      "+-------+-------------------+\n",
      "|summary|                 am|\n",
      "+-------+-------------------+\n",
      "|  count|                 32|\n",
      "|   mean|            0.40625|\n",
      "| stddev|0.49899091723584604|\n",
      "|    min|                  0|\n",
      "|    max|                  1|\n",
      "+-------+-------------------+\n",
      "\n",
      "Column: gear\n",
      "+-------+------------------+\n",
      "|summary|              gear|\n",
      "+-------+------------------+\n",
      "|  count|                32|\n",
      "|   mean|            3.6875|\n",
      "| stddev|0.7378040652569471|\n",
      "|    min|                 3|\n",
      "|    max|                 5|\n",
      "+-------+------------------+\n",
      "\n",
      "Column: carb\n",
      "+-------+------------------+\n",
      "|summary|              carb|\n",
      "+-------+------------------+\n",
      "|  count|                32|\n",
      "|   mean|            2.8125|\n",
      "| stddev|1.6151999776318522|\n",
      "|    min|                 1|\n",
      "|    max|                 8|\n",
      "+-------+------------------+\n",
      "\n"
     ]
    }
   ],
   "source": [
    "def describe_columns(df):\n",
    "    for i in df.columns:\n",
    "        print('Column: ' + i)\n",
    "        df.select(i).describe().show()\n",
    "describe_columns(mtcars_df)"
   ]
  },
  {
   "cell_type": "code",
   "execution_count": null,
   "metadata": {},
   "outputs": [],
   "source": []
  }
 ],
 "metadata": {
  "kernelspec": {
   "display_name": "Python 3",
   "language": "python",
   "name": "python3"
  },
  "language_info": {
   "codemirror_mode": {
    "name": "ipython",
    "version": 3
   },
   "file_extension": ".py",
   "mimetype": "text/x-python",
   "name": "python",
   "nbconvert_exporter": "python",
   "pygments_lexer": "ipython3",
   "version": "3.6.9"
  }
 },
 "nbformat": 4,
 "nbformat_minor": 4
}
