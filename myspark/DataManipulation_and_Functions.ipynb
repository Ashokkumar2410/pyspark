{
 "cells": [
  {
   "cell_type": "code",
   "execution_count": 1,
   "metadata": {},
   "outputs": [],
   "source": [
    "try:\n",
    "    sc.stop()\n",
    "except:\n",
    "    pass\n",
    "from pyspark import SparkContext, SparkConf\n",
    "from pyspark.sql import SparkSession\n",
    "sc=SparkContext()\n",
    "spark = SparkSession(sparkContext=sc)"
   ]
  },
  {
   "cell_type": "code",
   "execution_count": 2,
   "metadata": {},
   "outputs": [],
   "source": [
    "mtcarsfile=\"../../data/mtcars.csv\""
   ]
  },
  {
   "cell_type": "code",
   "execution_count": 3,
   "metadata": {},
   "outputs": [],
   "source": [
    "mtcars_df = spark.read.csv(mtcarsfile, inferSchema=True, header=True)"
   ]
  },
  {
   "cell_type": "code",
   "execution_count": 4,
   "metadata": {},
   "outputs": [
    {
     "name": "stdout",
     "output_type": "stream",
     "text": [
      "+-------------+----+---+-----+---+----+-----+-----+---+---+----+----+\n",
      "|        model| mpg|cyl| disp| hp|drat|   wt| qsec| vs| am|gear|carb|\n",
      "+-------------+----+---+-----+---+----+-----+-----+---+---+----+----+\n",
      "|    Mazda RX4|21.0|  6|160.0|110| 3.9| 2.62|16.46|  0|  1|   4|   4|\n",
      "|Mazda RX4 Wag|21.0|  6|160.0|110| 3.9|2.875|17.02|  0|  1|   4|   4|\n",
      "+-------------+----+---+-----+---+----+-----+-----+---+---+----+----+\n",
      "only showing top 2 rows\n",
      "\n"
     ]
    }
   ],
   "source": [
    "mtcars_df.show(2)"
   ]
  },
  {
   "cell_type": "markdown",
   "metadata": {},
   "source": [
    "### Aggregate functions\n",
    "Two aggregate functions:\n",
    "\n",
    "* aggregate()\n",
    "* aggregateByKey()\n",
    "#### aggregate(zeroValue, seqOp, combOp)\n",
    "* **zeroValue** is like a data container. Its structure should match with the data structure of the returned values from the seqOp function.\n",
    "* **seqOp** is a function that takes two arguments: the first argument is the zeroValue and the second argument is an element from the RDD. The zeroValue gets updated with the returned value after every run.\n",
    "* **combOp** is a function that takes two arguments: the first argument is the final zeroValue from one partition and the other is another final zeroValue from another partition.\n",
    "The code below calculates the total sum of squares for **mpg** and **disp** in data set mtcars.\n"
   ]
  },
  {
   "cell_type": "code",
   "execution_count": 22,
   "metadata": {},
   "outputs": [
    {
     "name": "stdout",
     "output_type": "stream",
     "text": [
      "\n",
      "   Mean of mpg  : 20.090625000000003\n",
      "   Mean of disp : 230.721875\n",
      "\n"
     ]
    }
   ],
   "source": [
    "# Step 1: get some data.\n",
    "# Step 2: calculate averages of mgp and disp\n",
    "\n",
    "mpg_mean  = mtcars_df.select('mpg').rdd.map(lambda x:x[0]).mean()\n",
    "disp_mean = mtcars_df.select('disp').rdd.map(lambda x:x[0]).mean() \n",
    "\n",
    "print(\"\"\"\n",
    "   Mean of mpg  : {0}\n",
    "   Mean of disp : {1}\n",
    "\"\"\".format(mpg_mean,disp_mean) )"
   ]
  },
  {
   "cell_type": "code",
   "execution_count": 23,
   "metadata": {},
   "outputs": [],
   "source": [
    "# Step 3: build zeroValue, seqOp and combOp\n",
    "zeroValue = (0, 0)"
   ]
  },
  {
   "cell_type": "code",
   "execution_count": 24,
   "metadata": {},
   "outputs": [
    {
     "data": {
      "text/plain": [
       "[(0, 'model'),\n",
       " (1, 'mpg'),\n",
       " (2, 'cyl'),\n",
       " (3, 'disp'),\n",
       " (4, 'hp'),\n",
       " (5, 'drat'),\n",
       " (6, 'wt'),\n",
       " (7, 'qsec'),\n",
       " (8, 'vs'),\n",
       " (9, 'am'),\n",
       " (10, 'gear'),\n",
       " (11, 'carb')]"
      ]
     },
     "execution_count": 24,
     "metadata": {},
     "output_type": "execute_result"
    }
   ],
   "source": [
    "list(enumerate(mtcars_df.columns))"
   ]
  },
  {
   "cell_type": "code",
   "execution_count": 29,
   "metadata": {},
   "outputs": [
    {
     "name": "stdout",
     "output_type": "stream",
     "text": [
      "+----+-----+\n",
      "| mpg| disp|\n",
      "+----+-----+\n",
      "|21.0|160.0|\n",
      "|21.0|160.0|\n",
      "+----+-----+\n",
      "only showing top 2 rows\n",
      "\n"
     ]
    }
   ],
   "source": [
    "mtcars_df_1 = mtcars_df.select(['mpg','disp'])\n",
    "mtcars_df_1.show(2)\n",
    "seqOp = lambda z, x: (z[0] + (x[0] - mpg_mean)**2, z[1] + (x[1] - disp_mean)**2)\n",
    "combOp = lambda px, py: ( px[0] + py[0], px[1] + py[1] )"
   ]
  },
  {
   "cell_type": "code",
   "execution_count": 30,
   "metadata": {},
   "outputs": [
    {
     "data": {
      "text/plain": [
       "(1126.0471874999998, 476184.7946875)"
      ]
     },
     "execution_count": 30,
     "metadata": {},
     "output_type": "execute_result"
    }
   ],
   "source": [
    "mtcars_df_1.rdd.aggregate(zeroValue, seqOp, combOp)"
   ]
  },
  {
   "cell_type": "markdown",
   "metadata": {},
   "source": [
    "### aggregateByKey(zeroValue, seqOp, combOp)\n",
    "This function does similar things as **aggregate()**. The **aggregate()** aggregate all results to the very end, but **aggregateByKey()** merge results by key."
   ]
  },
  {
   "cell_type": "code",
   "execution_count": 31,
   "metadata": {},
   "outputs": [
    {
     "data": {
      "text/plain": [
       "['sepal_length,sepal_width,petal_length,petal_width,species',\n",
       " '5.1,3.5,1.4,0.2,setosa']"
      ]
     },
     "execution_count": 31,
     "metadata": {},
     "output_type": "execute_result"
    }
   ],
   "source": [
    "iris_rdd = sc.textFile('../../data/iris.csv')\n",
    "iris_rdd.take(2)"
   ]
  },
  {
   "cell_type": "code",
   "execution_count": 33,
   "metadata": {},
   "outputs": [
    {
     "data": {
      "text/plain": [
       "['sepal_length,sepal_width,petal_length,petal_width,species',\n",
       " '5.1,3.5,1.4,0.2,setosa']"
      ]
     },
     "execution_count": 33,
     "metadata": {},
     "output_type": "execute_result"
    }
   ],
   "source": [
    "iris_rdd = sc.textFile('../../data/iris.csv',use_unicode=True)\n",
    "iris_rdd.take(2)"
   ]
  },
  {
   "cell_type": "code",
   "execution_count": 37,
   "metadata": {},
   "outputs": [
    {
     "data": {
      "text/plain": [
       "['sepal_length', 'sepal_width', 'petal_length', 'petal_width', 'species']"
      ]
     },
     "execution_count": 37,
     "metadata": {},
     "output_type": "execute_result"
    }
   ],
   "source": [
    "header=iris_rdd.map(lambda x : x.split(',')).first()\n",
    "header"
   ]
  },
  {
   "cell_type": "code",
   "execution_count": 41,
   "metadata": {},
   "outputs": [
    {
     "data": {
      "text/plain": [
       "[['5.1', '3.5', '1.4', '0.2', 'setosa'],\n",
       " ['4.9', '3.0', '1.4', '0.2', 'setosa']]"
      ]
     },
     "execution_count": 41,
     "metadata": {},
     "output_type": "execute_result"
    }
   ],
   "source": [
    "iris_row = iris_rdd.map(lambda x : x.split(',')).filter(lambda x: x != header)\n",
    "iris_row.take(2)"
   ]
  },
  {
   "cell_type": "code",
   "execution_count": 45,
   "metadata": {},
   "outputs": [],
   "source": [
    "iris_row_tuple = iris_row.map(lambda x: (x[-1], [*map(float,x[:-1])]))"
   ]
  },
  {
   "cell_type": "code",
   "execution_count": 47,
   "metadata": {},
   "outputs": [
    {
     "data": {
      "text/plain": [
       "[('setosa', [5.1, 3.5, 1.4, 0.2]),\n",
       " ('setosa', [4.9, 3.0, 1.4, 0.2]),\n",
       " ('setosa', [4.7, 3.2, 1.3, 0.2]),\n",
       " ('setosa', [4.6, 3.1, 1.5, 0.2])]"
      ]
     },
     "execution_count": 47,
     "metadata": {},
     "output_type": "execute_result"
    }
   ],
   "source": [
    "iris_row_tuple.take(4)"
   ]
  },
  {
   "cell_type": "markdown",
   "metadata": {},
   "source": [
    "### Define initial values, seqOp and combOp"
   ]
  },
  {
   "cell_type": "code",
   "execution_count": 48,
   "metadata": {},
   "outputs": [],
   "source": [
    "zero_value = (0, 0)\n",
    "seqOp = (lambda x, y: (x[0] + (y[0])**2, x[1] + (y[1])**2))\n",
    "combOp = (lambda x, y: (x[0] + y[0], x[1] + y[1]))"
   ]
  },
  {
   "cell_type": "markdown",
   "metadata": {},
   "source": [
    "### Implement aggregateByKey()¶"
   ]
  },
  {
   "cell_type": "code",
   "execution_count": 50,
   "metadata": {},
   "outputs": [
    {
     "data": {
      "text/plain": [
       "[('setosa', (1259.0899999999997, 591.2500000000002)),\n",
       " ('versicolor', (1774.8600000000006, 388.4700000000001)),\n",
       " ('virginica', (2189.9000000000005, 447.33))]"
      ]
     },
     "execution_count": 50,
     "metadata": {},
     "output_type": "execute_result"
    }
   ],
   "source": [
    "iris_row_tuple.aggregateByKey(zero_value, seqOp, combOp).collect()"
   ]
  },
  {
   "cell_type": "markdown",
   "metadata": {},
   "source": [
    "### Map functions\n",
    "These functions are probably the most commonly used functions when dealing with an RDD object.\n",
    "\n",
    "    *map()\n",
    "    *mapValues()\n",
    "    *flatMap()\n",
    "    *flatMapValues()\n",
    "#### map\n",
    "The map() method applies a function to each elements of the RDD. Each element has to be a valid input to the function. The returned RDD has the function outputs as its new elements.\n",
    "\n",
    "Elements in the RDD object map_exp_rdd below are rows of the mtcars in string format. We are going to apply the map() function multiple times to convert each string elements as a list elements. Each list element has two values: the first value will be the auto model in string format; the second value will be a list of numeric values."
   ]
  },
  {
   "cell_type": "code",
   "execution_count": 51,
   "metadata": {},
   "outputs": [
    {
     "name": "stdout",
     "output_type": "stream",
     "text": [
      "+--------------+----+---+-----+---+----+-----+-----+---+---+----+----+\n",
      "|         model| mpg|cyl| disp| hp|drat|   wt| qsec| vs| am|gear|carb|\n",
      "+--------------+----+---+-----+---+----+-----+-----+---+---+----+----+\n",
      "|     Mazda RX4|21.0|  6|160.0|110| 3.9| 2.62|16.46|  0|  1|   4|   4|\n",
      "| Mazda RX4 Wag|21.0|  6|160.0|110| 3.9|2.875|17.02|  0|  1|   4|   4|\n",
      "|    Datsun 710|22.8|  4|108.0| 93|3.85| 2.32|18.61|  1|  1|   4|   1|\n",
      "|Hornet 4 Drive|21.4|  6|258.0|110|3.08|3.215|19.44|  1|  0|   3|   1|\n",
      "+--------------+----+---+-----+---+----+-----+-----+---+---+----+----+\n",
      "only showing top 4 rows\n",
      "\n"
     ]
    }
   ],
   "source": [
    "mtcars_df.show(4)"
   ]
  },
  {
   "cell_type": "code",
   "execution_count": 53,
   "metadata": {},
   "outputs": [
    {
     "data": {
      "text/plain": [
       "['model',\n",
       " 'mpg',\n",
       " 'cyl',\n",
       " 'disp',\n",
       " 'hp',\n",
       " 'drat',\n",
       " 'wt',\n",
       " 'qsec',\n",
       " 'vs',\n",
       " 'am',\n",
       " 'gear',\n",
       " 'carb']"
      ]
     },
     "execution_count": 53,
     "metadata": {},
     "output_type": "execute_result"
    }
   ],
   "source": [
    "header = mtcars_df.columns\n",
    "header"
   ]
  },
  {
   "cell_type": "code",
   "execution_count": 54,
   "metadata": {},
   "outputs": [
    {
     "data": {
      "text/plain": [
       "['model,mpg,cyl,disp,hp,drat,wt,qsec,vs,am,gear,carb',\n",
       " 'Mazda RX4,21,6,160,110,3.9,2.62,16.46,0,1,4,4']"
      ]
     },
     "execution_count": 54,
     "metadata": {},
     "output_type": "execute_result"
    }
   ],
   "source": [
    "mtcars_rdd = sc.textFile(mtcarsfile)\n",
    "mtcars_rdd.take(2)"
   ]
  },
  {
   "cell_type": "code",
   "execution_count": 55,
   "metadata": {},
   "outputs": [],
   "source": [
    "mtcars_rdd_map = mtcars_rdd.map(lambda x : x.split(','))"
   ]
  },
  {
   "cell_type": "code",
   "execution_count": 57,
   "metadata": {},
   "outputs": [
    {
     "data": {
      "text/plain": [
       "[['model',\n",
       "  'mpg',\n",
       "  'cyl',\n",
       "  'disp',\n",
       "  'hp',\n",
       "  'drat',\n",
       "  'wt',\n",
       "  'qsec',\n",
       "  'vs',\n",
       "  'am',\n",
       "  'gear',\n",
       "  'carb'],\n",
       " ['Mazda RX4',\n",
       "  '21',\n",
       "  '6',\n",
       "  '160',\n",
       "  '110',\n",
       "  '3.9',\n",
       "  '2.62',\n",
       "  '16.46',\n",
       "  '0',\n",
       "  '1',\n",
       "  '4',\n",
       "  '4']]"
      ]
     },
     "execution_count": 57,
     "metadata": {},
     "output_type": "execute_result"
    }
   ],
   "source": [
    "mtcars_rdd_map.take(2)"
   ]
  },
  {
   "cell_type": "code",
   "execution_count": 61,
   "metadata": {},
   "outputs": [
    {
     "name": "stdout",
     "output_type": "stream",
     "text": [
      "['model', 'mpg', 'cyl', 'disp', 'hp', 'drat', 'wt', 'qsec', 'vs', 'am', 'gear', 'carb']\n",
      "[['Mazda RX4', '21', '6', '160', '110', '3.9', '2.62', '16.46', '0', '1', '4', '4'], ['Mazda RX4 Wag', '21', '6', '160', '110', '3.9', '2.875', '17.02', '0', '1', '4', '4']]\n"
     ]
    }
   ],
   "source": [
    "mtcars_rdd_map_header = mtcars_rdd_map.first()\n",
    "print(mtcars_rdd_map_header)\n",
    "mtcars_rdd_map_rows = mtcars_rdd_map.filter(lambda x : x!=mtcars_rdd_map_header)\n",
    "print(mtcars_rdd_map_rows.take(2))"
   ]
  },
  {
   "cell_type": "code",
   "execution_count": 64,
   "metadata": {},
   "outputs": [],
   "source": [
    "# # split auto model from other feature values\n",
    "\n",
    "# convert string values to numeric values\n",
    "\n",
    "mtcars_rdd_map_rows_s_f = mtcars_rdd_map_rows.map(lambda x : (x[0],[*map(float,x[1:])]))"
   ]
  },
  {
   "cell_type": "code",
   "execution_count": 65,
   "metadata": {},
   "outputs": [
    {
     "data": {
      "text/plain": [
       "[('Mazda RX4',\n",
       "  [21.0, 6.0, 160.0, 110.0, 3.9, 2.62, 16.46, 0.0, 1.0, 4.0, 4.0])]"
      ]
     },
     "execution_count": 65,
     "metadata": {},
     "output_type": "execute_result"
    }
   ],
   "source": [
    "mtcars_rdd_map_rows_s_f.take(1)"
   ]
  },
  {
   "cell_type": "markdown",
   "metadata": {},
   "source": [
    "### mapValues\n",
    "The mapValues function requires that each element in the RDD has a **key/value** pair structure, for example, a tuple of 2 items, or a list of 2 items. The mapValues function applies a function to each of the element values. The element key will remain unchanged.\n",
    "\n",
    "We can apply the mapValues function to the RDD object mapValues_exp_rdd below."
   ]
  },
  {
   "cell_type": "code",
   "execution_count": 67,
   "metadata": {},
   "outputs": [
    {
     "data": {
      "text/plain": [
       "[('Mazda RX4',\n",
       "  [21.0, 6.0, 160.0, 110.0, 3.9, 2.62, 16.46, 0.0, 1.0, 4.0, 4.0])]"
      ]
     },
     "execution_count": 67,
     "metadata": {},
     "output_type": "execute_result"
    }
   ],
   "source": [
    "mtcars_rdd_map_rows_s_f.mapValues(lambda x:x).take(1)"
   ]
  },
  {
   "cell_type": "code",
   "execution_count": 70,
   "metadata": {},
   "outputs": [],
   "source": [
    "import numpy as np"
   ]
  },
  {
   "cell_type": "code",
   "execution_count": 75,
   "metadata": {},
   "outputs": [
    {
     "data": {
      "text/plain": [
       "[('Mazda RX4', 29.90727272727273),\n",
       " ('Mazda RX4 Wag', 29.98136363636364),\n",
       " ('Datsun 710', 23.59818181818182),\n",
       " ('Hornet 4 Drive', 38.73954545454546)]"
      ]
     },
     "execution_count": 75,
     "metadata": {},
     "output_type": "execute_result"
    }
   ],
   "source": [
    "mtcars_rdd_map_rows_s_f.mapValues(lambda x:np.mean(x)).collect()[:4]\n",
    "### When using mapValues(), the x in the above lambda function refers to the element value, not including the element key."
   ]
  },
  {
   "cell_type": "markdown",
   "metadata": {},
   "source": [
    "### flatMap\n",
    "This function first applies a function to each elements of an RDD and then flatten the results. We can simply use this function to flatten elements of an RDD without extra operation on each elements."
   ]
  },
  {
   "cell_type": "code",
   "execution_count": 81,
   "metadata": {},
   "outputs": [
    {
     "data": {
      "text/plain": [
       "[('a', 'b', 'c'), ('d', 'e', 'e'), ('f', 'g')]"
      ]
     },
     "execution_count": 81,
     "metadata": {},
     "output_type": "execute_result"
    }
   ],
   "source": [
    "x = [('a','b','c'),('d','e','e'),('f','g')]\n",
    "x\n",
    "flapMap_x = sc.parallelize(x)\n",
    "flapMap_x.collect()"
   ]
  },
  {
   "cell_type": "code",
   "execution_count": 83,
   "metadata": {},
   "outputs": [
    {
     "data": {
      "text/plain": [
       "['a', 'b', 'c', 'd', 'e', 'e', 'f', 'g']"
      ]
     },
     "execution_count": 83,
     "metadata": {},
     "output_type": "execute_result"
    }
   ],
   "source": [
    "flapMap_x.flatMap(lambda x:x).collect()"
   ]
  },
  {
   "cell_type": "code",
   "execution_count": 84,
   "metadata": {},
   "outputs": [
    {
     "data": {
      "text/plain": [
       "[array([1, 2, 3]), array([4, 5, 6]), array([7, 8, 9])]"
      ]
     },
     "execution_count": 84,
     "metadata": {},
     "output_type": "execute_result"
    }
   ],
   "source": [
    "y = np.arange(1,10)\n",
    "y.shape = (3,3)\n",
    "flapMap_y = sc.parallelize(y)\n",
    "flapMap_y.collect()"
   ]
  },
  {
   "cell_type": "code",
   "execution_count": 85,
   "metadata": {},
   "outputs": [
    {
     "data": {
      "text/plain": [
       "[1, 2, 3, 4, 5, 6, 7, 8, 9]"
      ]
     },
     "execution_count": 85,
     "metadata": {},
     "output_type": "execute_result"
    }
   ],
   "source": [
    "flapMap_y.flatMap(lambda y:y).collect()"
   ]
  },
  {
   "cell_type": "markdown",
   "metadata": {},
   "source": [
    "### flatMapValues\n",
    "The flatMapValues function requires that each element in the RDD has a key/value pair structure. It applies a function to each element value of the RDD object and then flatten the results.\n",
    "\n",
    "For example, my raw data looks like below. But I would like to transform the data so that it has three columns: the first column is the sample id; the second the column is the three types (A,B or C); the third column is the values.\n",
    "\n",
    " \n",
    "|sample id|A    |B    |C    |\n",
    "|---------|-----|-----|-----|\n",
    "|1        |23   |18   |32   |\n",
    "|2        |18   |29   |31   |\n",
    "|3        |34   |21   |18   |   "
   ]
  },
  {
   "cell_type": "code",
   "execution_count": 90,
   "metadata": {},
   "outputs": [
    {
     "name": "stdout",
     "output_type": "stream",
     "text": [
      "[[1, (23, 28, 32)], [2, (18, 29, 31)], [3, (34, 21, 18)]]\n"
     ]
    },
    {
     "data": {
      "text/plain": [
       "[(1, ('A', 23)),\n",
       " (1, ('B', 28)),\n",
       " (1, ('C', 32)),\n",
       " (2, ('A', 18)),\n",
       " (2, ('B', 29)),\n",
       " (2, ('C', 31)),\n",
       " (3, ('A', 34)),\n",
       " (3, ('B', 21)),\n",
       " (3, ('C', 18))]"
      ]
     },
     "execution_count": 90,
     "metadata": {},
     "output_type": "execute_result"
    }
   ],
   "source": [
    "my_data = [\n",
    "    [1, (23, 28, 32)],\n",
    "    [2, (18, 29, 31)],\n",
    "    [3, (34, 21, 18)]\n",
    "]\n",
    "\n",
    "flatMapValues_rdd = sc.parallelize(my_data)\n",
    "print(flatMapValues_rdd.collect())\n",
    "flatMapValues_rdd_1 = flatMapValues_rdd.flatMapValues(lambda x: list(zip(list('ABC'), x)))\n",
    "flatMapValues_rdd_1.collect()"
   ]
  },
  {
   "cell_type": "code",
   "execution_count": 103,
   "metadata": {},
   "outputs": [
    {
     "name": "stdout",
     "output_type": "stream",
     "text": [
      "[(1, 'A'), (1, 'B'), (1, 'C'), (2, 'A'), (2, 'B'), (2, 'C'), (3, 'A'), (3, 'B'), (3, 'C')]\n",
      "[(1, 23), (1, 28), (1, 32), (2, 18), (2, 29), (2, 31), (3, 34), (3, 21), (3, 18)]\n"
     ]
    }
   ],
   "source": [
    "def changefmv(x):\n",
    "    v= [x[0]] + list(x[1])\n",
    "    return v\n",
    "print(flatMapValues_rdd_1.flatMapValues(lambda x: [x[0]]).collect())\n",
    "print(flatMapValues_rdd_1.flatMapValues(lambda x: [x[1]]).collect())"
   ]
  },
  {
   "cell_type": "markdown",
   "metadata": {},
   "source": [
    "## First Data Check"
   ]
  },
  {
   "cell_type": "code",
   "execution_count": 111,
   "metadata": {},
   "outputs": [
    {
     "name": "stdout",
     "output_type": "stream",
     "text": [
      "Column: model\n",
      "+-------+-----------+\n",
      "|summary|      model|\n",
      "+-------+-----------+\n",
      "|  count|         32|\n",
      "|   mean|       null|\n",
      "| stddev|       null|\n",
      "|    min|AMC Javelin|\n",
      "|    max| Volvo 142E|\n",
      "+-------+-----------+\n",
      "\n",
      "Column: mpg\n",
      "+-------+------------------+\n",
      "|summary|               mpg|\n",
      "+-------+------------------+\n",
      "|  count|                32|\n",
      "|   mean|20.090624999999996|\n",
      "| stddev| 6.026948052089103|\n",
      "|    min|              10.4|\n",
      "|    max|              33.9|\n",
      "+-------+------------------+\n",
      "\n",
      "Column: cyl\n",
      "+-------+------------------+\n",
      "|summary|               cyl|\n",
      "+-------+------------------+\n",
      "|  count|                32|\n",
      "|   mean|            6.1875|\n",
      "| stddev|1.7859216469465444|\n",
      "|    min|                 4|\n",
      "|    max|                 8|\n",
      "+-------+------------------+\n",
      "\n",
      "Column: disp\n",
      "+-------+------------------+\n",
      "|summary|              disp|\n",
      "+-------+------------------+\n",
      "|  count|                32|\n",
      "|   mean|230.72187500000004|\n",
      "| stddev|123.93869383138195|\n",
      "|    min|              71.1|\n",
      "|    max|             472.0|\n",
      "+-------+------------------+\n",
      "\n",
      "Column: hp\n",
      "+-------+-----------------+\n",
      "|summary|               hp|\n",
      "+-------+-----------------+\n",
      "|  count|               32|\n",
      "|   mean|         146.6875|\n",
      "| stddev|68.56286848932059|\n",
      "|    min|               52|\n",
      "|    max|              335|\n",
      "+-------+-----------------+\n",
      "\n",
      "Column: drat\n",
      "+-------+------------------+\n",
      "|summary|              drat|\n",
      "+-------+------------------+\n",
      "|  count|                32|\n",
      "|   mean|3.5965625000000006|\n",
      "| stddev|0.5346787360709716|\n",
      "|    min|              2.76|\n",
      "|    max|              4.93|\n",
      "+-------+------------------+\n",
      "\n",
      "Column: wt\n",
      "+-------+------------------+\n",
      "|summary|                wt|\n",
      "+-------+------------------+\n",
      "|  count|                32|\n",
      "|   mean|3.2172499999999995|\n",
      "| stddev|0.9784574429896968|\n",
      "|    min|             1.513|\n",
      "|    max|             5.424|\n",
      "+-------+------------------+\n",
      "\n",
      "Column: qsec\n",
      "+-------+------------------+\n",
      "|summary|              qsec|\n",
      "+-------+------------------+\n",
      "|  count|                32|\n",
      "|   mean|17.848750000000003|\n",
      "| stddev|1.7869432360968436|\n",
      "|    min|              14.5|\n",
      "|    max|              22.9|\n",
      "+-------+------------------+\n",
      "\n",
      "Column: vs\n",
      "+-------+------------------+\n",
      "|summary|                vs|\n",
      "+-------+------------------+\n",
      "|  count|                32|\n",
      "|   mean|            0.4375|\n",
      "| stddev|0.5040161287741853|\n",
      "|    min|                 0|\n",
      "|    max|                 1|\n",
      "+-------+------------------+\n",
      "\n",
      "Column: am\n",
      "+-------+-------------------+\n",
      "|summary|                 am|\n",
      "+-------+-------------------+\n",
      "|  count|                 32|\n",
      "|   mean|            0.40625|\n",
      "| stddev|0.49899091723584604|\n",
      "|    min|                  0|\n",
      "|    max|                  1|\n",
      "+-------+-------------------+\n",
      "\n",
      "Column: gear\n",
      "+-------+------------------+\n",
      "|summary|              gear|\n",
      "+-------+------------------+\n",
      "|  count|                32|\n",
      "|   mean|            3.6875|\n",
      "| stddev|0.7378040652569471|\n",
      "|    min|                 3|\n",
      "|    max|                 5|\n",
      "+-------+------------------+\n",
      "\n",
      "Column: carb\n",
      "+-------+------------------+\n",
      "|summary|              carb|\n",
      "+-------+------------------+\n",
      "|  count|                32|\n",
      "|   mean|            2.8125|\n",
      "| stddev|1.6151999776318522|\n",
      "|    min|                 1|\n",
      "|    max|                 8|\n",
      "+-------+------------------+\n",
      "\n"
     ]
    }
   ],
   "source": [
    "def describe_columns(df):\n",
    "    for i in df.columns:\n",
    "        print('Column: ' + i)\n",
    "        df.select(i).describe().show()\n",
    "describe_columns(mtcars_df)"
   ]
  },
  {
   "cell_type": "markdown",
   "metadata": {},
   "source": [
    "\n",
    "### Select Rows by index\n",
    "First, we need to add index to each rows. The ***zipWithIndex*** function zips the RDD elements with their corresponding index and returns the result as a new element."
   ]
  },
  {
   "cell_type": "code",
   "execution_count": 5,
   "metadata": {},
   "outputs": [],
   "source": [
    "mtcars = mtcars_df"
   ]
  },
  {
   "cell_type": "code",
   "execution_count": 6,
   "metadata": {},
   "outputs": [
    {
     "data": {
      "text/plain": [
       "[(Row(model='Mazda RX4', mpg=21.0, cyl=6, disp=160.0, hp=110, drat=3.9, wt=2.62, qsec=16.46, vs=0, am=1, gear=4, carb=4),\n",
       "  0),\n",
       " (Row(model='Mazda RX4 Wag', mpg=21.0, cyl=6, disp=160.0, hp=110, drat=3.9, wt=2.875, qsec=17.02, vs=0, am=1, gear=4, carb=4),\n",
       "  1),\n",
       " (Row(model='Datsun 710', mpg=22.8, cyl=4, disp=108.0, hp=93, drat=3.85, wt=2.32, qsec=18.61, vs=1, am=1, gear=4, carb=1),\n",
       "  2)]"
      ]
     },
     "execution_count": 6,
     "metadata": {},
     "output_type": "execute_result"
    }
   ],
   "source": [
    "mtcars.rdd.zipWithIndex().take(3)"
   ]
  },
  {
   "cell_type": "code",
   "execution_count": 7,
   "metadata": {},
   "outputs": [
    {
     "data": {
      "text/plain": [
       "[[0, 'Mazda RX4', 21.0, 6, 160.0, 110, 3.9, 2.62, 16.46, 0, 1, 4, 4],\n",
       " [1, 'Mazda RX4 Wag', 21.0, 6, 160.0, 110, 3.9, 2.875, 17.02, 0, 1, 4, 4]]"
      ]
     },
     "execution_count": 7,
     "metadata": {},
     "output_type": "execute_result"
    }
   ],
   "source": [
    "mtcars.rdd.zipWithIndex().map(lambda x:[x[1]]+[*x[0]]).take(2)"
   ]
  },
  {
   "cell_type": "code",
   "execution_count": 9,
   "metadata": {},
   "outputs": [],
   "source": [
    "header = ['index']+mtcars.columns\n",
    "mtcars_df = mtcars.rdd.zipWithIndex().map(lambda x:[x[1]]+[*x[0]]).toDF(header)"
   ]
  },
  {
   "cell_type": "code",
   "execution_count": 10,
   "metadata": {},
   "outputs": [
    {
     "name": "stdout",
     "output_type": "stream",
     "text": [
      "+-----+-------------+----+---+-----+---+----+-----+-----+---+---+----+----+\n",
      "|index|        model| mpg|cyl| disp| hp|drat|   wt| qsec| vs| am|gear|carb|\n",
      "+-----+-------------+----+---+-----+---+----+-----+-----+---+---+----+----+\n",
      "|    0|    Mazda RX4|21.0|  6|160.0|110| 3.9| 2.62|16.46|  0|  1|   4|   4|\n",
      "|    1|Mazda RX4 Wag|21.0|  6|160.0|110| 3.9|2.875|17.02|  0|  1|   4|   4|\n",
      "+-----+-------------+----+---+-----+---+----+-----+-----+---+---+----+----+\n",
      "only showing top 2 rows\n",
      "\n"
     ]
    }
   ],
   "source": [
    "mtcars_df.show(2)"
   ]
  },
  {
   "cell_type": "markdown",
   "metadata": {},
   "source": [
    "After we obtain the **index column**, we can apply the ***pyspark.sql.DataFrame.filter** function to select rows of the DataFrame. The filter function takes a **column of types.BooleanType** as input.\n",
    "\n",
    "\n",
    "### Select specific rows"
   ]
  },
  {
   "cell_type": "code",
   "execution_count": 13,
   "metadata": {},
   "outputs": [
    {
     "name": "stdout",
     "output_type": "stream",
     "text": [
      "+-----+-----------------+----+---+-----+---+----+-----+-----+---+---+----+----+\n",
      "|index|            model| mpg|cyl| disp| hp|drat|   wt| qsec| vs| am|gear|carb|\n",
      "+-----+-----------------+----+---+-----+---+----+-----+-----+---+---+----+----+\n",
      "|    1|    Mazda RX4 Wag|21.0|  6|160.0|110| 3.9|2.875|17.02|  0|  1|   4|   4|\n",
      "|    2|       Datsun 710|22.8|  4|108.0| 93|3.85| 2.32|18.61|  1|  1|   4|   1|\n",
      "|    4|Hornet Sportabout|18.7|  8|360.0|175|3.15| 3.44|17.02|  0|  0|   3|   2|\n",
      "|    6|       Duster 360|14.3|  8|360.0|245|3.21| 3.57|15.84|  0|  0|   3|   4|\n",
      "|    9|         Merc 280|19.2|  6|167.6|123|3.92| 3.44| 18.3|  1|  0|   4|   4|\n",
      "+-----+-----------------+----+---+-----+---+----+-----+-----+---+---+----+----+\n",
      "\n"
     ]
    }
   ],
   "source": [
    "mtcars_df.filter(mtcars_df.index.isin([1,2,4,6,9])).show()"
   ]
  },
  {
   "cell_type": "markdown",
   "metadata": {},
   "source": [
    "### Select rows between a range.count()\n",
    "#### Select rows between a range"
   ]
  },
  {
   "cell_type": "code",
   "execution_count": 18,
   "metadata": {},
   "outputs": [
    {
     "name": "stdout",
     "output_type": "stream",
     "text": [
      "+-----+----------+----+---+-----+---+----+----+-----+---+---+----+----+\n",
      "|index|     model| mpg|cyl| disp| hp|drat|  wt| qsec| vs| am|gear|carb|\n",
      "+-----+----------+----+---+-----+---+----+----+-----+---+---+----+----+\n",
      "|    5|   Valiant|18.1|  6|225.0|105|2.76|3.46|20.22|  1|  0|   3|   1|\n",
      "|    6|Duster 360|14.3|  8|360.0|245|3.21|3.57|15.84|  0|  0|   3|   4|\n",
      "|    7| Merc 240D|24.4|  4|146.7| 62|3.69|3.19| 20.0|  1|  0|   4|   2|\n",
      "|    8|  Merc 230|22.8|  4|140.8| 95|3.92|3.15| 22.9|  1|  0|   4|   2|\n",
      "|    9|  Merc 280|19.2|  6|167.6|123|3.92|3.44| 18.3|  1|  0|   4|   4|\n",
      "|   10| Merc 280C|17.8|  6|167.6|123|3.92|3.44| 18.9|  1|  0|   4|   4|\n",
      "+-----+----------+----+---+-----+---+----+----+-----+---+---+----+----+\n",
      "\n"
     ]
    }
   ],
   "source": [
    "mtcars_df.filter(mtcars_df.index.between(5,10)).show()"
   ]
  },
  {
   "cell_type": "markdown",
   "metadata": {},
   "source": [
    "### Select rows by a cutoff index"
   ]
  },
  {
   "cell_type": "code",
   "execution_count": 19,
   "metadata": {},
   "outputs": [
    {
     "name": "stdout",
     "output_type": "stream",
     "text": [
      "+-----+-------------+----+---+-----+---+----+-----+-----+---+---+----+----+\n",
      "|index|        model| mpg|cyl| disp| hp|drat|   wt| qsec| vs| am|gear|carb|\n",
      "+-----+-------------+----+---+-----+---+----+-----+-----+---+---+----+----+\n",
      "|    0|    Mazda RX4|21.0|  6|160.0|110| 3.9| 2.62|16.46|  0|  1|   4|   4|\n",
      "|    1|Mazda RX4 Wag|21.0|  6|160.0|110| 3.9|2.875|17.02|  0|  1|   4|   4|\n",
      "|    2|   Datsun 710|22.8|  4|108.0| 93|3.85| 2.32|18.61|  1|  1|   4|   1|\n",
      "+-----+-------------+----+---+-----+---+----+-----+-----+---+---+----+----+\n",
      "\n"
     ]
    }
   ],
   "source": [
    "mtcars_df.filter(mtcars_df.index < 3).show()"
   ]
  },
  {
   "cell_type": "markdown",
   "metadata": {},
   "source": [
    "### Select rows by logical criteria\n",
    "Example 1: select rows when cyl = 4"
   ]
  },
  {
   "cell_type": "code",
   "execution_count": 20,
   "metadata": {},
   "outputs": [
    {
     "name": "stdout",
     "output_type": "stream",
     "text": [
      "+-----+----------+----+---+-----+---+----+----+-----+---+---+----+----+\n",
      "|index|     model| mpg|cyl| disp| hp|drat|  wt| qsec| vs| am|gear|carb|\n",
      "+-----+----------+----+---+-----+---+----+----+-----+---+---+----+----+\n",
      "|    2|Datsun 710|22.8|  4|108.0| 93|3.85|2.32|18.61|  1|  1|   4|   1|\n",
      "|    7| Merc 240D|24.4|  4|146.7| 62|3.69|3.19| 20.0|  1|  0|   4|   2|\n",
      "+-----+----------+----+---+-----+---+----+----+-----+---+---+----+----+\n",
      "only showing top 2 rows\n",
      "\n"
     ]
    }
   ],
   "source": [
    "mtcars_df.filter(mtcars_df.cyl == 4).show(2)"
   ]
  },
  {
   "cell_type": "markdown",
   "metadata": {},
   "source": [
    "Example 2: select rows when vs = 1 and am = 1\n",
    "\n",
    "When the filtering is based on multiple conditions (e.g., vs = 1 and am = 1), we use the conditions to build a new boolean type column. And we filter the DataFrame by the new column."
   ]
  },
  {
   "cell_type": "code",
   "execution_count": 21,
   "metadata": {},
   "outputs": [],
   "source": [
    "from pyspark.sql import functions as F"
   ]
  },
  {
   "cell_type": "markdown",
   "metadata": {},
   "source": [
    "Warning: when passing multiple conditions to the **`when()`** function, each condition has to be within a pair of parentheses"
   ]
  },
  {
   "cell_type": "code",
   "execution_count": 23,
   "metadata": {},
   "outputs": [
    {
     "data": {
      "text/plain": [
       "Column<b'CASE WHEN ((vs = 1) AND (am = 1)) THEN 1 END AS `filter_col`'>"
      ]
     },
     "execution_count": 23,
     "metadata": {},
     "output_type": "execute_result"
    }
   ],
   "source": [
    "filtering_column = F.when((mtcars_df.vs == 1) & (mtcars_df.am == 1), 1).name('filter_col')\n",
    "filtering_column"
   ]
  },
  {
   "cell_type": "markdown",
   "metadata": {},
   "source": [
    "Now we need to add the new column to the original DataFrame. This can be done by applying the select() function to select all original columns as well as the new filtering columns."
   ]
  },
  {
   "cell_type": "code",
   "execution_count": 24,
   "metadata": {},
   "outputs": [
    {
     "data": {
      "text/plain": [
       "[Column<b'index'>,\n",
       " Column<b'model'>,\n",
       " Column<b'mpg'>,\n",
       " Column<b'cyl'>,\n",
       " Column<b'disp'>,\n",
       " Column<b'hp'>,\n",
       " Column<b'drat'>,\n",
       " Column<b'wt'>,\n",
       " Column<b'qsec'>,\n",
       " Column<b'vs'>,\n",
       " Column<b'am'>,\n",
       " Column<b'gear'>,\n",
       " Column<b'carb'>]"
      ]
     },
     "execution_count": 24,
     "metadata": {},
     "output_type": "execute_result"
    }
   ],
   "source": [
    "all_original_columns = [eval('mtcars_df.' + c) for c in mtcars_df.columns]\n",
    "all_original_columns"
   ]
  },
  {
   "cell_type": "code",
   "execution_count": 25,
   "metadata": {},
   "outputs": [
    {
     "data": {
      "text/plain": [
       "[Column<b'index'>,\n",
       " Column<b'model'>,\n",
       " Column<b'mpg'>,\n",
       " Column<b'cyl'>,\n",
       " Column<b'disp'>,\n",
       " Column<b'hp'>,\n",
       " Column<b'drat'>,\n",
       " Column<b'wt'>,\n",
       " Column<b'qsec'>,\n",
       " Column<b'vs'>,\n",
       " Column<b'am'>,\n",
       " Column<b'gear'>,\n",
       " Column<b'carb'>,\n",
       " Column<b'CASE WHEN ((vs = 1) AND (am = 1)) THEN 1 END AS `filter_col`'>]"
      ]
     },
     "execution_count": 25,
     "metadata": {},
     "output_type": "execute_result"
    }
   ],
   "source": [
    "all_columns = all_original_columns + [filtering_column]\n",
    "all_columns"
   ]
  },
  {
   "cell_type": "code",
   "execution_count": 26,
   "metadata": {},
   "outputs": [
    {
     "name": "stdout",
     "output_type": "stream",
     "text": [
      "+-----+-------------------+----+---+-----+---+----+-----+-----+---+---+----+----+----------+\n",
      "|index|              model| mpg|cyl| disp| hp|drat|   wt| qsec| vs| am|gear|carb|filter_col|\n",
      "+-----+-------------------+----+---+-----+---+----+-----+-----+---+---+----+----+----------+\n",
      "|    0|          Mazda RX4|21.0|  6|160.0|110| 3.9| 2.62|16.46|  0|  1|   4|   4|      null|\n",
      "|    1|      Mazda RX4 Wag|21.0|  6|160.0|110| 3.9|2.875|17.02|  0|  1|   4|   4|      null|\n",
      "|    2|         Datsun 710|22.8|  4|108.0| 93|3.85| 2.32|18.61|  1|  1|   4|   1|         1|\n",
      "|    3|     Hornet 4 Drive|21.4|  6|258.0|110|3.08|3.215|19.44|  1|  0|   3|   1|      null|\n",
      "|    4|  Hornet Sportabout|18.7|  8|360.0|175|3.15| 3.44|17.02|  0|  0|   3|   2|      null|\n",
      "|    5|            Valiant|18.1|  6|225.0|105|2.76| 3.46|20.22|  1|  0|   3|   1|      null|\n",
      "|    6|         Duster 360|14.3|  8|360.0|245|3.21| 3.57|15.84|  0|  0|   3|   4|      null|\n",
      "|    7|          Merc 240D|24.4|  4|146.7| 62|3.69| 3.19| 20.0|  1|  0|   4|   2|      null|\n",
      "|    8|           Merc 230|22.8|  4|140.8| 95|3.92| 3.15| 22.9|  1|  0|   4|   2|      null|\n",
      "|    9|           Merc 280|19.2|  6|167.6|123|3.92| 3.44| 18.3|  1|  0|   4|   4|      null|\n",
      "|   10|          Merc 280C|17.8|  6|167.6|123|3.92| 3.44| 18.9|  1|  0|   4|   4|      null|\n",
      "|   11|         Merc 450SE|16.4|  8|275.8|180|3.07| 4.07| 17.4|  0|  0|   3|   3|      null|\n",
      "|   12|         Merc 450SL|17.3|  8|275.8|180|3.07| 3.73| 17.6|  0|  0|   3|   3|      null|\n",
      "|   13|        Merc 450SLC|15.2|  8|275.8|180|3.07| 3.78| 18.0|  0|  0|   3|   3|      null|\n",
      "|   14| Cadillac Fleetwood|10.4|  8|472.0|205|2.93| 5.25|17.98|  0|  0|   3|   4|      null|\n",
      "|   15|Lincoln Continental|10.4|  8|460.0|215| 3.0|5.424|17.82|  0|  0|   3|   4|      null|\n",
      "|   16|  Chrysler Imperial|14.7|  8|440.0|230|3.23|5.345|17.42|  0|  0|   3|   4|      null|\n",
      "|   17|           Fiat 128|32.4|  4| 78.7| 66|4.08|  2.2|19.47|  1|  1|   4|   1|         1|\n",
      "|   18|        Honda Civic|30.4|  4| 75.7| 52|4.93|1.615|18.52|  1|  1|   4|   2|         1|\n",
      "|   19|     Toyota Corolla|33.9|  4| 71.1| 65|4.22|1.835| 19.9|  1|  1|   4|   1|         1|\n",
      "+-----+-------------------+----+---+-----+---+----+-----+-----+---+---+----+----+----------+\n",
      "only showing top 20 rows\n",
      "\n"
     ]
    }
   ],
   "source": [
    "new_mtcars_df = mtcars_df.select(all_columns)\n",
    "new_mtcars_df.show()"
   ]
  },
  {
   "cell_type": "code",
   "execution_count": 27,
   "metadata": {},
   "outputs": [
    {
     "name": "stdout",
     "output_type": "stream",
     "text": [
      "+-----+--------------+----+---+-----+---+----+-----+-----+---+---+----+----+\n",
      "|index|         model| mpg|cyl| disp| hp|drat|   wt| qsec| vs| am|gear|carb|\n",
      "+-----+--------------+----+---+-----+---+----+-----+-----+---+---+----+----+\n",
      "|    2|    Datsun 710|22.8|  4|108.0| 93|3.85| 2.32|18.61|  1|  1|   4|   1|\n",
      "|   17|      Fiat 128|32.4|  4| 78.7| 66|4.08|  2.2|19.47|  1|  1|   4|   1|\n",
      "|   18|   Honda Civic|30.4|  4| 75.7| 52|4.93|1.615|18.52|  1|  1|   4|   2|\n",
      "|   19|Toyota Corolla|33.9|  4| 71.1| 65|4.22|1.835| 19.9|  1|  1|   4|   1|\n",
      "|   25|     Fiat X1-9|27.3|  4| 79.0| 66|4.08|1.935| 18.9|  1|  1|   4|   1|\n",
      "|   27|  Lotus Europa|30.4|  4| 95.1|113|3.77|1.513| 16.9|  1|  1|   5|   2|\n",
      "|   31|    Volvo 142E|21.4|  4|121.0|109|4.11| 2.78| 18.6|  1|  1|   4|   2|\n",
      "+-----+--------------+----+---+-----+---+----+-----+-----+---+---+----+----+\n",
      "\n"
     ]
    }
   ],
   "source": [
    "new_mtcars_df.filter(new_mtcars_df.filter_col == 1).drop('filter_col').show()"
   ]
  },
  {
   "cell_type": "code",
   "execution_count": 29,
   "metadata": {},
   "outputs": [
    {
     "data": {
      "text/plain": [
       "Column<b'CASE WHEN ((vs = 1) AND (am = 1)) THEN 1 END'>"
      ]
     },
     "execution_count": 29,
     "metadata": {},
     "output_type": "execute_result"
    }
   ],
   "source": [
    "F.when((mtcars_df.vs == 1) & (mtcars_df.am == 1), 1)"
   ]
  },
  {
   "cell_type": "code",
   "execution_count": 32,
   "metadata": {},
   "outputs": [
    {
     "name": "stdout",
     "output_type": "stream",
     "text": [
      "+-----+----------+----+---+-----+---+----+----+-----+---+---+----+----+\n",
      "|index|     model| mpg|cyl| disp| hp|drat|  wt| qsec| vs| am|gear|carb|\n",
      "+-----+----------+----+---+-----+---+----+----+-----+---+---+----+----+\n",
      "|    2|Datsun 710|22.8|  4|108.0| 93|3.85|2.32|18.61|  1|  1|   4|   1|\n",
      "|   17|  Fiat 128|32.4|  4| 78.7| 66|4.08| 2.2|19.47|  1|  1|   4|   1|\n",
      "+-----+----------+----+---+-----+---+----+----+-----+---+---+----+----+\n",
      "only showing top 2 rows\n",
      "\n"
     ]
    }
   ],
   "source": [
    "mtcars_df.filter(F.when((mtcars_df.vs == 1) & (mtcars_df.am == 1), 1) == 1).show(2)"
   ]
  },
  {
   "cell_type": "markdown",
   "metadata": {},
   "source": [
    "### Select columns by name\n",
    "We can simply use the **select()** function to select columns by name."
   ]
  },
  {
   "cell_type": "code",
   "execution_count": 33,
   "metadata": {},
   "outputs": [
    {
     "name": "stdout",
     "output_type": "stream",
     "text": [
      "+---+-----+\n",
      "| hp| disp|\n",
      "+---+-----+\n",
      "|110|160.0|\n",
      "|110|160.0|\n",
      "| 93|108.0|\n",
      "|110|258.0|\n",
      "|175|360.0|\n",
      "+---+-----+\n",
      "only showing top 5 rows\n",
      "\n"
     ]
    }
   ],
   "source": [
    "mtcars.select(['hp','disp']).show(5)"
   ]
  },
  {
   "cell_type": "markdown",
   "metadata": {},
   "source": [
    "### Select columns by index\n",
    "We can convert indices to corresponding column names and then select columns by name."
   ]
  },
  {
   "cell_type": "code",
   "execution_count": 34,
   "metadata": {},
   "outputs": [
    {
     "name": "stdout",
     "output_type": "stream",
     "text": [
      "['model', 'cyl', 'hp', 'wt']\n",
      "+--------------+---+---+-----+\n",
      "|         model|cyl| hp|   wt|\n",
      "+--------------+---+---+-----+\n",
      "|     Mazda RX4|  6|110| 2.62|\n",
      "| Mazda RX4 Wag|  6|110|2.875|\n",
      "|    Datsun 710|  4| 93| 2.32|\n",
      "|Hornet 4 Drive|  6|110|3.215|\n",
      "+--------------+---+---+-----+\n",
      "only showing top 4 rows\n",
      "\n"
     ]
    }
   ],
   "source": [
    "indices = [0,2,4,6]\n",
    "selected_columns = [ mtcars.columns[index] for index in indices]\n",
    "print(selected_columns)\n",
    "mtcars.select(selected_columns).show(4)\n"
   ]
  },
  {
   "cell_type": "markdown",
   "metadata": {},
   "source": [
    "### Select columns by pattern\n",
    "Example: columns start with 'd'."
   ]
  },
  {
   "cell_type": "code",
   "execution_count": 36,
   "metadata": {},
   "outputs": [
    {
     "name": "stdout",
     "output_type": "stream",
     "text": [
      "['disp', 'drat']\n",
      "+-----+----+\n",
      "| disp|drat|\n",
      "+-----+----+\n",
      "|160.0| 3.9|\n",
      "|160.0| 3.9|\n",
      "|108.0|3.85|\n",
      "|258.0|3.08|\n",
      "+-----+----+\n",
      "only showing top 4 rows\n",
      "\n"
     ]
    }
   ],
   "source": [
    "import re \n",
    "\n",
    "selected_columns = [ x for x in mtcars.columns if re.compile('^d').match(x) is not None]\n",
    "print(selected_columns)\n",
    "mtcars.select(selected_columns).show(4)"
   ]
  },
  {
   "cell_type": "markdown",
   "metadata": {},
   "source": [
    "### Column expression\n",
    "A Spark column instance is NOT a column of values from the DataFrame: when you crate a column instance, it does not give you the actual values of that column in the DataFrame. I found it makes more sense to me if I consider a column instance as a column of expressions. These expressions are evaluated by other methods (e.g., the select(), groupby(), and orderby() from pyspark.sql.DataFrame)"
   ]
  },
  {
   "cell_type": "markdown",
   "metadata": {},
   "source": [
    "The **pyspark.sql.Column** has many methods that acts on a column and returns a column instance."
   ]
  },
  {
   "cell_type": "code",
   "execution_count": 38,
   "metadata": {},
   "outputs": [
    {
     "name": "stdout",
     "output_type": "stream",
     "text": [
      "+-------------------+----+---+-----+---+----+-----+-----+---+---+----+----+\n",
      "|              model| mpg|cyl| disp| hp|drat|   wt| qsec| vs| am|gear|carb|\n",
      "+-------------------+----+---+-----+---+----+-----+-----+---+---+----+----+\n",
      "|     Hornet 4 Drive|21.4|  6|258.0|110|3.08|3.215|19.44|  1|  0|   3|   1|\n",
      "|  Hornet Sportabout|18.7|  8|360.0|175|3.15| 3.44|17.02|  0|  0|   3|   2|\n",
      "|            Valiant|18.1|  6|225.0|105|2.76| 3.46|20.22|  1|  0|   3|   1|\n",
      "|         Duster 360|14.3|  8|360.0|245|3.21| 3.57|15.84|  0|  0|   3|   4|\n",
      "|         Merc 450SE|16.4|  8|275.8|180|3.07| 4.07| 17.4|  0|  0|   3|   3|\n",
      "|         Merc 450SL|17.3|  8|275.8|180|3.07| 3.73| 17.6|  0|  0|   3|   3|\n",
      "|        Merc 450SLC|15.2|  8|275.8|180|3.07| 3.78| 18.0|  0|  0|   3|   3|\n",
      "| Cadillac Fleetwood|10.4|  8|472.0|205|2.93| 5.25|17.98|  0|  0|   3|   4|\n",
      "|Lincoln Continental|10.4|  8|460.0|215| 3.0|5.424|17.82|  0|  0|   3|   4|\n",
      "|  Chrysler Imperial|14.7|  8|440.0|230|3.23|5.345|17.42|  0|  0|   3|   4|\n",
      "|      Toyota Corona|21.5|  4|120.1| 97| 3.7|2.465|20.01|  1|  0|   3|   1|\n",
      "|   Dodge Challenger|15.5|  8|318.0|150|2.76| 3.52|16.87|  0|  0|   3|   2|\n",
      "|        AMC Javelin|15.2|  8|304.0|150|3.15|3.435| 17.3|  0|  0|   3|   2|\n",
      "|         Camaro Z28|13.3|  8|350.0|245|3.73| 3.84|15.41|  0|  0|   3|   4|\n",
      "|   Pontiac Firebird|19.2|  8|400.0|175|3.08|3.845|17.05|  0|  0|   3|   2|\n",
      "+-------------------+----+---+-----+---+----+-----+-----+---+---+----+----+\n",
      "\n"
     ]
    }
   ],
   "source": [
    "mtcars.filter(mtcars.gear.isin([2,3])).show()"
   ]
  },
  {
   "cell_type": "code",
   "execution_count": 45,
   "metadata": {},
   "outputs": [
    {
     "name": "stdout",
     "output_type": "stream",
     "text": [
      "+----+\n",
      "|gear|\n",
      "+----+\n",
      "|   3|\n",
      "|   5|\n",
      "|   4|\n",
      "+----+\n",
      "\n"
     ]
    }
   ],
   "source": [
    "mtcars.select(mtcars.gear).distinct().show()"
   ]
  },
  {
   "cell_type": "markdown",
   "metadata": {},
   "source": [
    "### between(): true/false if the column value is between a given range¶"
   ]
  },
  {
   "cell_type": "code",
   "execution_count": 46,
   "metadata": {},
   "outputs": [
    {
     "data": {
      "text/plain": [
       "Column<b'((mpg >= 18) AND (mpg <= 20))'>"
      ]
     },
     "execution_count": 46,
     "metadata": {},
     "output_type": "execute_result"
    }
   ],
   "source": [
    "mtcars.mpg.between(18,20)"
   ]
  },
  {
   "cell_type": "code",
   "execution_count": 50,
   "metadata": {},
   "outputs": [
    {
     "name": "stdout",
     "output_type": "stream",
     "text": [
      "+--------+\n",
      "|18 to 20|\n",
      "+--------+\n",
      "|   false|\n",
      "|   false|\n",
      "|   false|\n",
      "|   false|\n",
      "|    true|\n",
      "+--------+\n",
      "only showing top 5 rows\n",
      "\n"
     ]
    }
   ],
   "source": [
    "mtcars.select(mtcars.mpg.between(18,20).alias('18 to 20')).show(5)"
   ]
  },
  {
   "cell_type": "code",
   "execution_count": 51,
   "metadata": {},
   "outputs": [
    {
     "name": "stdout",
     "output_type": "stream",
     "text": [
      "+-----------------+----+---+-----+---+----+-----+-----+---+---+----+----+\n",
      "|            model| mpg|cyl| disp| hp|drat|   wt| qsec| vs| am|gear|carb|\n",
      "+-----------------+----+---+-----+---+----+-----+-----+---+---+----+----+\n",
      "|Hornet Sportabout|18.7|  8|360.0|175|3.15| 3.44|17.02|  0|  0|   3|   2|\n",
      "|          Valiant|18.1|  6|225.0|105|2.76| 3.46|20.22|  1|  0|   3|   1|\n",
      "|         Merc 280|19.2|  6|167.6|123|3.92| 3.44| 18.3|  1|  0|   4|   4|\n",
      "| Pontiac Firebird|19.2|  8|400.0|175|3.08|3.845|17.05|  0|  0|   3|   2|\n",
      "|     Ferrari Dino|19.7|  6|145.0|175|3.62| 2.77| 15.5|  0|  1|   5|   6|\n",
      "+-----------------+----+---+-----+---+----+-----+-----+---+---+----+----+\n",
      "\n"
     ]
    }
   ],
   "source": [
    "mtcars.filter(mtcars.mpg.between(18,20)).show()"
   ]
  },
  {
   "cell_type": "markdown",
   "metadata": {},
   "source": [
    "### contains(): true/false if the column value contains a string"
   ]
  },
  {
   "cell_type": "code",
   "execution_count": 53,
   "metadata": {},
   "outputs": [
    {
     "data": {
      "text/plain": [
       "Column<b'contains(model, Ho)'>"
      ]
     },
     "execution_count": 53,
     "metadata": {},
     "output_type": "execute_result"
    }
   ],
   "source": [
    "mtcars.model.contains('Ho')"
   ]
  },
  {
   "cell_type": "code",
   "execution_count": 55,
   "metadata": {},
   "outputs": [
    {
     "name": "stdout",
     "output_type": "stream",
     "text": [
      "+-----------------+----+---+-----+---+----+-----+-----+---+---+----+----+\n",
      "|            model| mpg|cyl| disp| hp|drat|   wt| qsec| vs| am|gear|carb|\n",
      "+-----------------+----+---+-----+---+----+-----+-----+---+---+----+----+\n",
      "|   Hornet 4 Drive|21.4|  6|258.0|110|3.08|3.215|19.44|  1|  0|   3|   1|\n",
      "|Hornet Sportabout|18.7|  8|360.0|175|3.15| 3.44|17.02|  0|  0|   3|   2|\n",
      "|      Honda Civic|30.4|  4| 75.7| 52|4.93|1.615|18.52|  1|  1|   4|   2|\n",
      "+-----------------+----+---+-----+---+----+-----+-----+---+---+----+----+\n",
      "\n"
     ]
    }
   ],
   "source": [
    "mtcars.filter(mtcars.model.contains('Ho')).show(4)"
   ]
  },
  {
   "cell_type": "code",
   "execution_count": 56,
   "metadata": {},
   "outputs": [
    {
     "name": "stdout",
     "output_type": "stream",
     "text": [
      "+-------------+----+---+-----+---+----+-----+-----+---+---+----+----+\n",
      "|        model| mpg|cyl| disp| hp|drat|   wt| qsec| vs| am|gear|carb|\n",
      "+-------------+----+---+-----+---+----+-----+-----+---+---+----+----+\n",
      "|    Mazda RX4|21.0|  6|160.0|110| 3.9| 2.62|16.46|  0|  1|   4|   4|\n",
      "|Mazda RX4 Wag|21.0|  6|160.0|110| 3.9|2.875|17.02|  0|  1|   4|   4|\n",
      "|   Datsun 710|22.8|  4|108.0| 93|3.85| 2.32|18.61|  1|  1|   4|   1|\n",
      "|      Valiant|18.1|  6|225.0|105|2.76| 3.46|20.22|  1|  0|   3|   1|\n",
      "+-------------+----+---+-----+---+----+-----+-----+---+---+----+----+\n",
      "only showing top 4 rows\n",
      "\n"
     ]
    }
   ],
   "source": [
    "mtcars.filter(mtcars.model.contains('Ho') == False).show(4)"
   ]
  },
  {
   "cell_type": "markdown",
   "metadata": {},
   "source": [
    "### endswith(): true/false if the column value ends with a string"
   ]
  },
  {
   "cell_type": "code",
   "execution_count": 62,
   "metadata": {},
   "outputs": [
    {
     "name": "stdout",
     "output_type": "stream",
     "text": [
      "+-----------------+-----+\n",
      "|            model|end-d|\n",
      "+-----------------+-----+\n",
      "|        Mazda RX4|false|\n",
      "|    Mazda RX4 Wag|false|\n",
      "|       Datsun 710|false|\n",
      "|   Hornet 4 Drive|false|\n",
      "|Hornet Sportabout|false|\n",
      "+-----------------+-----+\n",
      "only showing top 5 rows\n",
      "\n"
     ]
    }
   ],
   "source": [
    "mtcars.select(mtcars.model, mtcars.model.endswith('d').alias('end-d')).show(5)"
   ]
  },
  {
   "cell_type": "markdown",
   "metadata": {},
   "source": [
    "### startswith(): true/false if the column value starts with a string"
   ]
  },
  {
   "cell_type": "code",
   "execution_count": 65,
   "metadata": {},
   "outputs": [
    {
     "name": "stdout",
     "output_type": "stream",
     "text": [
      "+-----------------+-------+\n",
      "|            model|start-M|\n",
      "+-----------------+-------+\n",
      "|        Mazda RX4|   true|\n",
      "|    Mazda RX4 Wag|   true|\n",
      "|       Datsun 710|  false|\n",
      "|   Hornet 4 Drive|  false|\n",
      "|Hornet Sportabout|  false|\n",
      "+-----------------+-------+\n",
      "only showing top 5 rows\n",
      "\n"
     ]
    }
   ],
   "source": [
    "mtcars.select(mtcars.model, mtcars.model.startswith('M').alias('start-M')).show(5)"
   ]
  },
  {
   "cell_type": "markdown",
   "metadata": {},
   "source": [
    "### like(): true/false if the column value matches a pattern based on a SQL LIKE"
   ]
  },
  {
   "cell_type": "code",
   "execution_count": 72,
   "metadata": {},
   "outputs": [
    {
     "name": "stdout",
     "output_type": "stream",
     "text": [
      "+-----------+----+---+----+---+----+-----+-----+---+---+----+----+\n",
      "|      model| mpg|cyl|disp| hp|drat|   wt| qsec| vs| am|gear|carb|\n",
      "+-----------+----+---+----+---+----+-----+-----+---+---+----+----+\n",
      "|Honda Civic|30.4|  4|75.7| 52|4.93|1.615|18.52|  1|  1|   4|   2|\n",
      "+-----------+----+---+----+---+----+-----+-----+---+---+----+----+\n",
      "\n"
     ]
    }
   ],
   "source": [
    "mtcars.filter(mtcars.model.like('H%da%')).show()"
   ]
  },
  {
   "cell_type": "markdown",
   "metadata": {},
   "source": [
    "### rlike(): true/false if the column value matches a pattern based on a SQL RLIKE (LIKE with Regex)"
   ]
  },
  {
   "cell_type": "code",
   "execution_count": 74,
   "metadata": {},
   "outputs": [
    {
     "name": "stdout",
     "output_type": "stream",
     "text": [
      "+-----------------+----+---+-----+---+----+----+-----+---+---+----+----+\n",
      "|            model| mpg|cyl| disp| hp|drat|  wt| qsec| vs| am|gear|carb|\n",
      "+-----------------+----+---+-----+---+----+----+-----+---+---+----+----+\n",
      "|Hornet Sportabout|18.7|  8|360.0|175|3.15|3.44|17.02|  0|  0|   3|   2|\n",
      "+-----------------+----+---+-----+---+----+----+-----+---+---+----+----+\n",
      "\n"
     ]
    }
   ],
   "source": [
    "mtcars.filter(mtcars.model.rlike('^H.*t$')).show()"
   ]
  },
  {
   "cell_type": "markdown",
   "metadata": {},
   "source": [
    "### pyspark.sql.functions functions\n",
    "****pyspark.sql.functions**** is collection of built-in functions for creating column expressions. These functions largely increase methods that we can use to manipulate DataFrame and DataFrame columns.\n",
    "\n",
    "There are many sql functions from the pyspark.sql.functions module. Here I only choose a few to show how these functions extend the ability to create column expressions."
   ]
  },
  {
   "cell_type": "code",
   "execution_count": 75,
   "metadata": {},
   "outputs": [],
   "source": [
    "from pyspark.sql import functions as F"
   ]
  },
  {
   "cell_type": "code",
   "execution_count": 76,
   "metadata": {},
   "outputs": [
    {
     "name": "stdout",
     "output_type": "stream",
     "text": [
      "+---+\n",
      "|  x|\n",
      "+---+\n",
      "|  1|\n",
      "| -1|\n",
      "| -2|\n",
      "+---+\n",
      "\n"
     ]
    }
   ],
   "source": [
    "from pyspark.sql import Row\n",
    "df = sc.parallelize([Row(x=1), Row(x=-1), Row(x=-2)]).toDF()\n",
    "df.show()"
   ]
  },
  {
   "cell_type": "code",
   "execution_count": 82,
   "metadata": {},
   "outputs": [
    {
     "data": {
      "text/plain": [
       "Column<b'abs(x)'>"
      ]
     },
     "execution_count": 82,
     "metadata": {},
     "output_type": "execute_result"
    }
   ],
   "source": [
    "F.abs(df.x)"
   ]
  },
  {
   "cell_type": "code",
   "execution_count": 83,
   "metadata": {},
   "outputs": [
    {
     "name": "stdout",
     "output_type": "stream",
     "text": [
      "+---+------+\n",
      "|  x|abs(x)|\n",
      "+---+------+\n",
      "|  1|     1|\n",
      "| -1|     1|\n",
      "| -2|     2|\n",
      "+---+------+\n",
      "\n"
     ]
    }
   ],
   "source": [
    "df.select(df.x, F.abs(df.x)).show()"
   ]
  },
  {
   "cell_type": "markdown",
   "metadata": {},
   "source": [
    "### concat(): create column expression that concatenates multiple column values into one"
   ]
  },
  {
   "cell_type": "code",
   "execution_count": 84,
   "metadata": {},
   "outputs": [],
   "source": [
    "from pyspark.sql import Row"
   ]
  },
  {
   "cell_type": "code",
   "execution_count": 85,
   "metadata": {},
   "outputs": [],
   "source": [
    "names = [Row(firstname=\"Ashok\",lastname=\"kumar\"),\n",
    "         Row(firstname=\"Rama\",lastname=\"Krishnan\"),\n",
    "         Row(firstname=\"Darris\",lastname=\"Smith\")]"
   ]
  },
  {
   "cell_type": "code",
   "execution_count": 87,
   "metadata": {},
   "outputs": [],
   "source": [
    "df=sc.parallelize(names).toDF()"
   ]
  },
  {
   "cell_type": "code",
   "execution_count": 89,
   "metadata": {},
   "outputs": [
    {
     "name": "stdout",
     "output_type": "stream",
     "text": [
      "+---------+--------+\n",
      "|firstname|lastname|\n",
      "+---------+--------+\n",
      "|    Ashok|   kumar|\n",
      "|     Rama|Krishnan|\n",
      "|   Darris|   Smith|\n",
      "+---------+--------+\n",
      "\n"
     ]
    }
   ],
   "source": [
    "df.show()"
   ]
  },
  {
   "cell_type": "code",
   "execution_count": 90,
   "metadata": {},
   "outputs": [
    {
     "name": "stdout",
     "output_type": "stream",
     "text": [
      "+---------+--------+---------------------------+\n",
      "|firstname|lastname|concat(firstname, lastname)|\n",
      "+---------+--------+---------------------------+\n",
      "|    Ashok|   kumar|                 Ashokkumar|\n",
      "|     Rama|Krishnan|               RamaKrishnan|\n",
      "|   Darris|   Smith|                DarrisSmith|\n",
      "+---------+--------+---------------------------+\n",
      "\n"
     ]
    }
   ],
   "source": [
    "df.select('firstname','lastname',F.concat(df.firstname,df.lastname)).show()"
   ]
  },
  {
   "cell_type": "markdown",
   "metadata": {},
   "source": [
    "### corr(): create column expression that returns pearson correlation coefficient between two columns"
   ]
  },
  {
   "cell_type": "code",
   "execution_count": 91,
   "metadata": {},
   "outputs": [
    {
     "name": "stdout",
     "output_type": "stream",
     "text": [
      "+-------------------+\n",
      "|     corr(drat, wt)|\n",
      "+-------------------+\n",
      "|-0.7124406466973717|\n",
      "+-------------------+\n",
      "\n"
     ]
    }
   ],
   "source": [
    "mtcars.select(F.corr(mtcars.drat, mtcars.wt)).show()"
   ]
  },
  {
   "cell_type": "code",
   "execution_count": 95,
   "metadata": {},
   "outputs": [
    {
     "data": {
      "text/plain": [
       "Column<b'drat'>"
      ]
     },
     "execution_count": 95,
     "metadata": {},
     "output_type": "execute_result"
    }
   ],
   "source": [
    "eval('mtcars.'+'drat')"
   ]
  },
  {
   "cell_type": "code",
   "execution_count": 97,
   "metadata": {},
   "outputs": [
    {
     "name": "stdout",
     "output_type": "stream",
     "text": [
      "+-----------------------------------------------------------------+\n",
      "|array(mpg, cyl, disp, hp, drat, wt, qsec, vs, am, gear, carb)    |\n",
      "+-----------------------------------------------------------------+\n",
      "|[21.0, 6.0, 160.0, 110.0, 3.9, 2.62, 16.46, 0.0, 1.0, 4.0, 4.0]  |\n",
      "|[21.0, 6.0, 160.0, 110.0, 3.9, 2.875, 17.02, 0.0, 1.0, 4.0, 4.0] |\n",
      "|[22.8, 4.0, 108.0, 93.0, 3.85, 2.32, 18.61, 1.0, 1.0, 4.0, 1.0]  |\n",
      "|[21.4, 6.0, 258.0, 110.0, 3.08, 3.215, 19.44, 1.0, 0.0, 3.0, 1.0]|\n",
      "|[18.7, 8.0, 360.0, 175.0, 3.15, 3.44, 17.02, 0.0, 0.0, 3.0, 2.0] |\n",
      "|[18.1, 6.0, 225.0, 105.0, 2.76, 3.46, 20.22, 1.0, 0.0, 3.0, 1.0] |\n",
      "|[14.3, 8.0, 360.0, 245.0, 3.21, 3.57, 15.84, 0.0, 0.0, 3.0, 4.0] |\n",
      "|[24.4, 4.0, 146.7, 62.0, 3.69, 3.19, 20.0, 1.0, 0.0, 4.0, 2.0]   |\n",
      "|[22.8, 4.0, 140.8, 95.0, 3.92, 3.15, 22.9, 1.0, 0.0, 4.0, 2.0]   |\n",
      "|[19.2, 6.0, 167.6, 123.0, 3.92, 3.44, 18.3, 1.0, 0.0, 4.0, 4.0]  |\n",
      "|[17.8, 6.0, 167.6, 123.0, 3.92, 3.44, 18.9, 1.0, 0.0, 4.0, 4.0]  |\n",
      "|[16.4, 8.0, 275.8, 180.0, 3.07, 4.07, 17.4, 0.0, 0.0, 3.0, 3.0]  |\n",
      "|[17.3, 8.0, 275.8, 180.0, 3.07, 3.73, 17.6, 0.0, 0.0, 3.0, 3.0]  |\n",
      "|[15.2, 8.0, 275.8, 180.0, 3.07, 3.78, 18.0, 0.0, 0.0, 3.0, 3.0]  |\n",
      "|[10.4, 8.0, 472.0, 205.0, 2.93, 5.25, 17.98, 0.0, 0.0, 3.0, 4.0] |\n",
      "|[10.4, 8.0, 460.0, 215.0, 3.0, 5.424, 17.82, 0.0, 0.0, 3.0, 4.0] |\n",
      "|[14.7, 8.0, 440.0, 230.0, 3.23, 5.345, 17.42, 0.0, 0.0, 3.0, 4.0]|\n",
      "|[32.4, 4.0, 78.7, 66.0, 4.08, 2.2, 19.47, 1.0, 1.0, 4.0, 1.0]    |\n",
      "|[30.4, 4.0, 75.7, 52.0, 4.93, 1.615, 18.52, 1.0, 1.0, 4.0, 2.0]  |\n",
      "|[33.9, 4.0, 71.1, 65.0, 4.22, 1.835, 19.9, 1.0, 1.0, 4.0, 1.0]   |\n",
      "+-----------------------------------------------------------------+\n",
      "only showing top 20 rows\n",
      "\n"
     ]
    }
   ],
   "source": [
    "mtcars.select(F.array([eval('mtcars.'+z) for z in mtcars.columns[1:]])).show(truncate=False)"
   ]
  },
  {
   "cell_type": "markdown",
   "metadata": {},
   "source": [
    "### udf() function and sql types\n",
    "The pyspark.sql.functions.udf() function is a very important function. It allows us to transfer a **user defined function** to a **pyspark.sql.functions** function which can act on columns of a DataFrame. It makes data framsformation much more flexible.\n",
    "\n",
    "Using udf() could be tricky. The key is to understand how to define the returnType parameter.v"
   ]
  },
  {
   "cell_type": "code",
   "execution_count": 98,
   "metadata": {},
   "outputs": [],
   "source": [
    "from pyspark.sql.types import *\n",
    "from pyspark.sql.functions import udf"
   ]
  },
  {
   "cell_type": "code",
   "execution_count": 99,
   "metadata": {},
   "outputs": [
    {
     "name": "stdout",
     "output_type": "stream",
     "text": [
      "+-------------+----+---+-----+---+----+-----+-----+---+---+----+----+\n",
      "|        model| mpg|cyl| disp| hp|drat|   wt| qsec| vs| am|gear|carb|\n",
      "+-------------+----+---+-----+---+----+-----+-----+---+---+----+----+\n",
      "|    Mazda RX4|21.0|  6|160.0|110| 3.9| 2.62|16.46|  0|  1|   4|   4|\n",
      "|Mazda RX4 Wag|21.0|  6|160.0|110| 3.9|2.875|17.02|  0|  1|   4|   4|\n",
      "|   Datsun 710|22.8|  4|108.0| 93|3.85| 2.32|18.61|  1|  1|   4|   1|\n",
      "+-------------+----+---+-----+---+----+-----+-----+---+---+----+----+\n",
      "only showing top 3 rows\n",
      "\n"
     ]
    }
   ],
   "source": [
    "mtcars.show(3)"
   ]
  },
  {
   "cell_type": "code",
   "execution_count": 100,
   "metadata": {},
   "outputs": [],
   "source": [
    "# define function\n",
    "def merge_two_columns(col1, col2):\n",
    "    return([float(col1), float(col2)])\n",
    "\n",
    "# convert user defined function into an udf function (sql function)\n",
    "array_merge_two_columns_udf = udf(merge_two_columns, returnType=ArrayType(FloatType()))"
   ]
  },
  {
   "cell_type": "code",
   "execution_count": 102,
   "metadata": {},
   "outputs": [],
   "source": [
    "array_col = array_merge_two_columns_udf(mtcars.disp, mtcars.hp)"
   ]
  },
  {
   "cell_type": "code",
   "execution_count": 103,
   "metadata": {},
   "outputs": [
    {
     "data": {
      "text/plain": [
       "[Column<b'model'>,\n",
       " Column<b'mpg'>,\n",
       " Column<b'cyl'>,\n",
       " Column<b'disp'>,\n",
       " Column<b'hp'>,\n",
       " Column<b'drat'>,\n",
       " Column<b'wt'>,\n",
       " Column<b'qsec'>,\n",
       " Column<b'vs'>,\n",
       " Column<b'am'>,\n",
       " Column<b'gear'>,\n",
       " Column<b'carb'>,\n",
       " Column<b'merge_two_columns(disp, hp)'>]"
      ]
     },
     "execution_count": 103,
     "metadata": {},
     "output_type": "execute_result"
    }
   ],
   "source": [
    "all_original_cols = [eval('mtcars.' + x) for x in mtcars.columns]\n",
    "all_new_cols = all_original_cols + [array_col]\n",
    "all_new_cols\n"
   ]
  },
  {
   "cell_type": "code",
   "execution_count": 104,
   "metadata": {},
   "outputs": [
    {
     "name": "stdout",
     "output_type": "stream",
     "text": [
      "+-----------------+----+---+-----+---+----+-----+-----+---+---+----+----+---------------------------+\n",
      "|model            |mpg |cyl|disp |hp |drat|wt   |qsec |vs |am |gear|carb|merge_two_columns(disp, hp)|\n",
      "+-----------------+----+---+-----+---+----+-----+-----+---+---+----+----+---------------------------+\n",
      "|Mazda RX4        |21.0|6  |160.0|110|3.9 |2.62 |16.46|0  |1  |4   |4   |[160.0, 110.0]             |\n",
      "|Mazda RX4 Wag    |21.0|6  |160.0|110|3.9 |2.875|17.02|0  |1  |4   |4   |[160.0, 110.0]             |\n",
      "|Datsun 710       |22.8|4  |108.0|93 |3.85|2.32 |18.61|1  |1  |4   |1   |[108.0, 93.0]              |\n",
      "|Hornet 4 Drive   |21.4|6  |258.0|110|3.08|3.215|19.44|1  |0  |3   |1   |[258.0, 110.0]             |\n",
      "|Hornet Sportabout|18.7|8  |360.0|175|3.15|3.44 |17.02|0  |0  |3   |2   |[360.0, 175.0]             |\n",
      "+-----------------+----+---+-----+---+----+-----+-----+---+---+----+----+---------------------------+\n",
      "only showing top 5 rows\n",
      "\n"
     ]
    }
   ],
   "source": [
    "mtcars.select(all_new_cols).show(5, truncate=False)"
   ]
  },
  {
   "cell_type": "markdown",
   "metadata": {},
   "source": [
    "### ArrayType vs. StructType\n",
    "Both ArrayType and StructType can be used to build returnType for a list. The difference is:\n",
    "\n",
    "1. ArrayType requires all elements in the list have the same elementType, while StructType can have different elementTypes.\n",
    "2. StructType represents a Row object.\n"
   ]
  },
  {
   "cell_type": "markdown",
   "metadata": {},
   "source": [
    "### Define an ArrayType with elementType being FloatType."
   ]
  },
  {
   "cell_type": "code",
   "execution_count": 105,
   "metadata": {},
   "outputs": [],
   "source": [
    "# define function\n",
    "def merge_two_columns(col1, col2):\n",
    "    return([float(col1), float(col2)])\n",
    "array_type = ArrayType(FloatType())\n",
    "array_merge_two_columns_udf = udf(merge_two_columns, returnType=array_type)"
   ]
  },
  {
   "cell_type": "markdown",
   "metadata": {},
   "source": [
    "### Define a StructType with one elementType being StringType and the other being FloatType."
   ]
  },
  {
   "cell_type": "code",
   "execution_count": 110,
   "metadata": {},
   "outputs": [],
   "source": [
    "# define function\n",
    "def merge_two_columns(col1, col2):\n",
    "    return([str(col1), float(col2)])\n",
    "struct_type = StructType([\n",
    "    StructField('f1', StringType()),\n",
    "    StructField('f2', FloatType())\n",
    "])\n",
    "struct_merge_two_columns_udf = udf(merge_two_columns, returnType=struct_type)"
   ]
  },
  {
   "cell_type": "code",
   "execution_count": 111,
   "metadata": {},
   "outputs": [
    {
     "data": {
      "text/plain": [
       "Column<b'merge_two_columns(hp, disp)'>"
      ]
     },
     "execution_count": 111,
     "metadata": {},
     "output_type": "execute_result"
    }
   ],
   "source": [
    "array_col = array_merge_two_columns_udf(mtcars.hp, mtcars.disp)\n",
    "array_col"
   ]
  },
  {
   "cell_type": "code",
   "execution_count": 112,
   "metadata": {},
   "outputs": [
    {
     "data": {
      "text/plain": [
       "Column<b'merge_two_columns(model, disp)'>"
      ]
     },
     "execution_count": 112,
     "metadata": {},
     "output_type": "execute_result"
    }
   ],
   "source": [
    "struct_col = struct_merge_two_columns_udf(mtcars.model, mtcars.disp)\n",
    "struct_col"
   ]
  },
  {
   "cell_type": "code",
   "execution_count": 113,
   "metadata": {},
   "outputs": [
    {
     "name": "stdout",
     "output_type": "stream",
     "text": [
      "+---------------------------+------------------------------+\n",
      "|merge_two_columns(hp, disp)|merge_two_columns(model, disp)|\n",
      "+---------------------------+------------------------------+\n",
      "|[110.0, 160.0]             |[Mazda RX4, 160.0]            |\n",
      "|[110.0, 160.0]             |[Mazda RX4 Wag, 160.0]        |\n",
      "|[93.0, 108.0]              |[Datsun 710, 108.0]           |\n",
      "|[110.0, 258.0]             |[Hornet 4 Drive, 258.0]       |\n",
      "|[175.0, 360.0]             |[Hornet Sportabout, 360.0]    |\n",
      "|[105.0, 225.0]             |[Valiant, 225.0]              |\n",
      "|[245.0, 360.0]             |[Duster 360, 360.0]           |\n",
      "|[62.0, 146.7]              |[Merc 240D, 146.7]            |\n",
      "|[95.0, 140.8]              |[Merc 230, 140.8]             |\n",
      "|[123.0, 167.6]             |[Merc 280, 167.6]             |\n",
      "|[123.0, 167.6]             |[Merc 280C, 167.6]            |\n",
      "|[180.0, 275.8]             |[Merc 450SE, 275.8]           |\n",
      "|[180.0, 275.8]             |[Merc 450SL, 275.8]           |\n",
      "|[180.0, 275.8]             |[Merc 450SLC, 275.8]          |\n",
      "|[205.0, 472.0]             |[Cadillac Fleetwood, 472.0]   |\n",
      "|[215.0, 460.0]             |[Lincoln Continental, 460.0]  |\n",
      "|[230.0, 440.0]             |[Chrysler Imperial, 440.0]    |\n",
      "|[66.0, 78.7]               |[Fiat 128, 78.7]              |\n",
      "|[52.0, 75.7]               |[Honda Civic, 75.7]           |\n",
      "|[65.0, 71.1]               |[Toyota Corolla, 71.1]        |\n",
      "+---------------------------+------------------------------+\n",
      "only showing top 20 rows\n",
      "\n"
     ]
    }
   ],
   "source": [
    "mtcars.select(array_col, struct_col).show(truncate=False)"
   ]
  },
  {
   "cell_type": "markdown",
   "metadata": {},
   "source": [
    "## Export data"
   ]
  },
  {
   "cell_type": "code",
   "execution_count": 115,
   "metadata": {},
   "outputs": [],
   "source": [
    "from pyspark.sql import DataFrameWriter"
   ]
  },
  {
   "cell_type": "code",
   "execution_count": 116,
   "metadata": {},
   "outputs": [],
   "source": [
    "mtcars = mtcars.coalesce(numPartitions=3)"
   ]
  },
  {
   "cell_type": "code",
   "execution_count": 117,
   "metadata": {},
   "outputs": [],
   "source": [
    "mtcars.write.csv('data/saved-mtcars', header=True)"
   ]
  },
  {
   "cell_type": "markdown",
   "metadata": {},
   "source": [
    "## SQL TEMP View Table"
   ]
  },
  {
   "cell_type": "code",
   "execution_count": 118,
   "metadata": {},
   "outputs": [],
   "source": [
    "mtcars_df.createOrReplaceTempView(\"mtcars\")"
   ]
  },
  {
   "cell_type": "code",
   "execution_count": 122,
   "metadata": {},
   "outputs": [
    {
     "name": "stdout",
     "output_type": "stream",
     "text": [
      "+-----+-----------+----+---+----+---+----+-----+-----+---+---+----+----+\n",
      "|index|      model| mpg|cyl|disp| hp|drat|   wt| qsec| vs| am|gear|carb|\n",
      "+-----+-----------+----+---+----+---+----+-----+-----+---+---+----+----+\n",
      "|   18|Honda Civic|30.4|  4|75.7| 52|4.93|1.615|18.52|  1|  1|   4|   2|\n",
      "+-----+-----------+----+---+----+---+----+-----+-----+---+---+----+----+\n",
      "\n"
     ]
    }
   ],
   "source": [
    "spark.sql(\"select * from mtcars where model like 'H%da%'\").show()"
   ]
  },
  {
   "cell_type": "code",
   "execution_count": 123,
   "metadata": {},
   "outputs": [
    {
     "name": "stdout",
     "output_type": "stream",
     "text": [
      "+----+---+\n",
      "| mpg|cyl|\n",
      "+----+---+\n",
      "|21.0|  6|\n",
      "|21.0|  6|\n",
      "|22.8|  4|\n",
      "|21.4|  6|\n",
      "|18.7|  8|\n",
      "|18.1|  6|\n",
      "|14.3|  8|\n",
      "|24.4|  4|\n",
      "|22.8|  4|\n",
      "|19.2|  6|\n",
      "|17.8|  6|\n",
      "|16.4|  8|\n",
      "|17.3|  8|\n",
      "|15.2|  8|\n",
      "|10.4|  8|\n",
      "|10.4|  8|\n",
      "|14.7|  8|\n",
      "|32.4|  4|\n",
      "|30.4|  4|\n",
      "|33.9|  4|\n",
      "+----+---+\n",
      "only showing top 20 rows\n",
      "\n"
     ]
    }
   ],
   "source": [
    "spark.sql(\"select mpg,cyl from mtcars\").show()"
   ]
  },
  {
   "cell_type": "code",
   "execution_count": 130,
   "metadata": {},
   "outputs": [
    {
     "name": "stdout",
     "output_type": "stream",
     "text": [
      "+-------+----+---+\n",
      "|row_num| mpg|cyl|\n",
      "+-------+----+---+\n",
      "|      1|15.5|  8|\n",
      "|      1|17.3|  8|\n",
      "|      1|13.3|  8|\n",
      "|      1|19.7|  6|\n",
      "|      1|21.4|  6|\n",
      "|      2|21.4|  4|\n",
      "|      1|15.8|  8|\n",
      "|      1|27.3|  4|\n",
      "|      1|19.2|  6|\n",
      "|      2|19.2|  8|\n",
      "|      1|24.4|  4|\n",
      "|      1|33.9|  4|\n",
      "|      1|18.1|  6|\n",
      "|      1|15.2|  8|\n",
      "|      2|15.2|  8|\n",
      "|      1|14.7|  8|\n",
      "|      1|21.0|  6|\n",
      "|      2|21.0|  6|\n",
      "|      1|14.3|  8|\n",
      "|      1|22.8|  4|\n",
      "+-------+----+---+\n",
      "only showing top 20 rows\n",
      "\n"
     ]
    }
   ],
   "source": [
    "spark.sql(\"SELECT ROW_NUMBER() OVER (PARTITION BY mpg ORDER BY mpg ) row_num,mpg,cyl FROM mtcars \").show()"
   ]
  },
  {
   "cell_type": "code",
   "execution_count": 131,
   "metadata": {},
   "outputs": [],
   "source": [
    "sql_with = \"WITH cars AS (     SELECT         ROW_NUMBER() OVER(PARTITION BY mpg              ORDER BY                 mpg         ) row_num,         mpg,         cyl      FROM         mtcars ) SELECT     row_num,     mpg,     cyl FROM     cars WHERE row_num > 1\""
   ]
  },
  {
   "cell_type": "code",
   "execution_count": 132,
   "metadata": {},
   "outputs": [
    {
     "name": "stdout",
     "output_type": "stream",
     "text": [
      "+-------+----+---+\n",
      "|row_num| mpg|cyl|\n",
      "+-------+----+---+\n",
      "|      2|21.4|  4|\n",
      "|      2|19.2|  8|\n",
      "|      2|15.2|  8|\n",
      "|      2|21.0|  6|\n",
      "|      2|22.8|  4|\n",
      "|      2|10.4|  8|\n",
      "|      2|30.4|  4|\n",
      "+-------+----+---+\n",
      "\n"
     ]
    }
   ],
   "source": [
    "spark.sql(sql_with).show()"
   ]
  },
  {
   "cell_type": "code",
   "execution_count": 134,
   "metadata": {},
   "outputs": [
    {
     "name": "stdout",
     "output_type": "stream",
     "text": [
      "+-------+----+---+\n",
      "|row_num| mpg|cyl|\n",
      "+-------+----+---+\n",
      "|      1|15.5|  8|\n",
      "|      1|17.3|  8|\n",
      "|      1|13.3|  8|\n",
      "|      1|19.7|  6|\n",
      "|      1|21.4|  6|\n",
      "|      1|15.8|  8|\n",
      "|      1|27.3|  4|\n",
      "|      1|19.2|  6|\n",
      "|      1|24.4|  4|\n",
      "|      1|33.9|  4|\n",
      "|      1|18.1|  6|\n",
      "|      1|15.2|  8|\n",
      "|      1|14.7|  8|\n",
      "|      1|21.0|  6|\n",
      "|      1|14.3|  8|\n",
      "|      1|22.8|  4|\n",
      "|      1|18.7|  8|\n",
      "|      1|21.5|  4|\n",
      "|      1|17.8|  6|\n",
      "|      1|10.4|  8|\n",
      "+-------+----+---+\n",
      "only showing top 20 rows\n",
      "\n"
     ]
    }
   ],
   "source": [
    "sql_with_1 = \"\"\"\n",
    "WITH cars AS (\n",
    "    SELECT \n",
    "        ROW_NUMBER() OVER(PARTITION BY mpg\n",
    "             ORDER BY \n",
    "                mpg\n",
    "        ) row_num, \n",
    "        mpg, \n",
    "        cyl\n",
    "     FROM \n",
    "        mtcars\n",
    ") SELECT \n",
    "    row_num, \n",
    "    mpg, \n",
    "    cyl\n",
    "FROM \n",
    "    cars\n",
    "WHERE row_num = 1\n",
    "\"\"\"\n",
    "\n",
    "spark.sql(sql_with_1).show()"
   ]
  },
  {
   "cell_type": "code",
   "execution_count": null,
   "metadata": {},
   "outputs": [],
   "source": []
  }
 ],
 "metadata": {
  "kernelspec": {
   "display_name": "Python 3",
   "language": "python",
   "name": "python3"
  },
  "language_info": {
   "codemirror_mode": {
    "name": "ipython",
    "version": 3
   },
   "file_extension": ".py",
   "mimetype": "text/x-python",
   "name": "python",
   "nbconvert_exporter": "python",
   "pygments_lexer": "ipython3",
   "version": "3.6.9"
  }
 },
 "nbformat": 4,
 "nbformat_minor": 4
}
