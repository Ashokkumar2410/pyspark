{
 "cells": [
  {
   "cell_type": "markdown",
   "metadata": {},
   "source": [
    "# RDD - Resilient Distributed Dataset"
   ]
  },
  {
   "cell_type": "code",
   "execution_count": 1,
   "metadata": {},
   "outputs": [],
   "source": [
    "#### First import modules and start spark context.\n",
    "\n",
    "try:\n",
    "    sc.stop()\n",
    "except:\n",
    "    pass\n",
    "\n",
    "from pyspark import SparkConf,SparkContext\n",
    "from pyspark.sql import SparkSession"
   ]
  },
  {
   "cell_type": "code",
   "execution_count": 2,
   "metadata": {},
   "outputs": [],
   "source": [
    "sc=SparkContext()\n",
    "spark = SparkSession(sparkContext=sc)"
   ]
  },
  {
   "cell_type": "code",
   "execution_count": 7,
   "metadata": {},
   "outputs": [
    {
     "name": "stdout",
     "output_type": "stream",
     "text": [
      "List [1, 2, 3]\n",
      "RDD List [1, 2, 3]\n"
     ]
    }
   ],
   "source": [
    "#from list\n",
    "List = list(range(1,4))\n",
    "print(\"List %s\" %(List))\n",
    "\n",
    "rdd = sc.parallelize(List)\n",
    "print(\"RDD List %s\" %(rdd.collect()))"
   ]
  },
  {
   "cell_type": "code",
   "execution_count": 8,
   "metadata": {},
   "outputs": [
    {
     "data": {
      "text/plain": [
       "['ashok', 'kumar', 'rama', 'krish']"
      ]
     },
     "execution_count": 8,
     "metadata": {},
     "output_type": "execute_result"
    }
   ],
   "source": [
    "Tuple = (\"ashok\",\"kumar\",\"rama\",\"krish\")\n",
    "rdd = sc.parallelize(Tuple)\n",
    "rdd.collect()"
   ]
  },
  {
   "cell_type": "code",
   "execution_count": 9,
   "metadata": {},
   "outputs": [
    {
     "data": {
      "text/plain": [
       "['rama', 'krish', 'kumar', 'ashok']"
      ]
     },
     "execution_count": 9,
     "metadata": {},
     "output_type": "execute_result"
    }
   ],
   "source": [
    "Set = set(Tuple)\n",
    "rdd = sc.parallelize(Set)\n",
    "rdd.collect()"
   ]
  },
  {
   "cell_type": "code",
   "execution_count": 11,
   "metadata": {},
   "outputs": [
    {
     "data": {
      "text/plain": [
       "{'cat', 'dog', 'fish'}"
      ]
     },
     "execution_count": 11,
     "metadata": {},
     "output_type": "execute_result"
    }
   ],
   "source": [
    "s = {'cat', 'dog', 'fish', 'cat', 'dog', 'dog'}\n",
    "s"
   ]
  },
  {
   "cell_type": "code",
   "execution_count": 12,
   "metadata": {},
   "outputs": [
    {
     "data": {
      "text/plain": [
       "['dog', 'fish', 'cat']"
      ]
     },
     "execution_count": 12,
     "metadata": {},
     "output_type": "execute_result"
    }
   ],
   "source": [
    "rdd = sc.parallelize(s)\n",
    "rdd.collect()"
   ]
  },
  {
   "cell_type": "code",
   "execution_count": 13,
   "metadata": {},
   "outputs": [
    {
     "data": {
      "text/plain": [
       "[('cat', 'dog', 'fish'), ('orange', 'apple')]"
      ]
     },
     "execution_count": 13,
     "metadata": {},
     "output_type": "execute_result"
    }
   ],
   "source": [
    "list_t = [('cat', 'dog', 'fish'), ('orange', 'apple')]\n",
    "rdd = sc.parallelize(list_t)\n",
    "rdd.collect()"
   ]
  },
  {
   "cell_type": "code",
   "execution_count": 14,
   "metadata": {},
   "outputs": [
    {
     "data": {
      "text/plain": [
       "['firstname', 'lastname', 'gender']"
      ]
     },
     "execution_count": 14,
     "metadata": {},
     "output_type": "execute_result"
    }
   ],
   "source": [
    "employee={}\n",
    "employee['firstname']=\"Ashokkumar\"\n",
    "employee['lastname']=\"Ramakrishnan\"\n",
    "employee['gender']='Male'\n",
    "\n",
    "rdd = sc.parallelize(employee)\n",
    "rdd.collect()\n",
    "\n",
    "#### When it is a dict, only the keys are used to form the RDD."
   ]
  },
  {
   "cell_type": "code",
   "execution_count": 23,
   "metadata": {},
   "outputs": [
    {
     "data": {
      "text/plain": [
       "['model,mpg,cyl,disp,hp,drat,wt,qsec,vs,am,gear,carb',\n",
       " 'Mazda RX4,21,6,160,110,3.9,2.62,16.46,0,1,4,4',\n",
       " 'Mazda RX4 Wag,21,6,160,110,3.9,2.875,17.02,0,1,4,4',\n",
       " 'Datsun 710,22.8,4,108,93,3.85,2.32,18.61,1,1,4,1',\n",
       " 'Hornet 4 Drive,21.4,6,258,110,3.08,3.215,19.44,1,0,3,1']"
      ]
     },
     "execution_count": 23,
     "metadata": {},
     "output_type": "execute_result"
    }
   ],
   "source": [
    "# read csv file \n",
    "mtcarsfile = \"../../data/mtcars.csv\"\n",
    "rdd = sc.textFile(mtcarsfile)\n",
    "rdd.take(5)"
   ]
  },
  {
   "cell_type": "code",
   "execution_count": 22,
   "metadata": {},
   "outputs": [
    {
     "data": {
      "text/plain": [
       "['Fresh install of XP on new computer. Sweet relief! fuck vista 1018769417 1.0 Well. Now I know where to go when I want my knives. #ChiChevySXSW http://post.ly/RvDl 10284216536 1.0 “Literally six weeks before I can take off “”SSC Chair”” off my email. Its like the torturous 4th mile before everything stops hurting.” 10298589026 1.0 Mitsubishi i MiEV - Wikipedia, the free encyclopedia - http://goo.gl/xipe Cutest car ever! 109017669432377344 1.0 ‘Cheap Eats in SLP’ - http://t.co/4w8gRp7 109642968603963392 1.0 Teenage Mutant Ninja Turtle art is never a bad thing... http://bit.ly/aDMHyW 10995492579 1.0 New demographic survey of online video viewers: http://bit.ly/cx8b7I via @KellyOlexa 11713360136 1.0 hi all - i’m going to be tweeting things lookstat at the @lookstat twitter account. please follow me there 1208319583 1.0 Holy carp, no. That movie will seriously suffer for it. RT @MouseInfo: Anyone excited for The Little Mermaid in 3D? 121330835726155776 1.0 “Did I really need to learn “”I bought a box and put in it things”” in arabic? This is the most random book ever.” 12358025545 1.0']"
      ]
     },
     "execution_count": 22,
     "metadata": {},
     "output_type": "execute_result"
    }
   ],
   "source": [
    "# read a txt file\n",
    "rdd = sc.textFile('../../data/twitter.txt')\n",
    "rdd.take(5)"
   ]
  },
  {
   "cell_type": "markdown",
   "metadata": {},
   "source": [
    "# DataFrame"
   ]
  },
  {
   "cell_type": "markdown",
   "metadata": {},
   "source": [
    "## Create a DataFrame object\n",
    "\n",
    "### Creat DataFrame by reading a file"
   ]
  },
  {
   "cell_type": "code",
   "execution_count": 24,
   "metadata": {},
   "outputs": [],
   "source": [
    "mtcars = spark.read.csv(mtcarsfile,sep=\",\",\n",
    "                        header=True, comment=None,\n",
    "                        inferSchema=True,encoding='UTF-8',\n",
    "                       )"
   ]
  },
  {
   "cell_type": "code",
   "execution_count": 26,
   "metadata": {},
   "outputs": [
    {
     "name": "stdout",
     "output_type": "stream",
     "text": [
      "+-----------------+----+---+-----+---+----+-----+-----+---+---+----+----+\n",
      "|            model| mpg|cyl| disp| hp|drat|   wt| qsec| vs| am|gear|carb|\n",
      "+-----------------+----+---+-----+---+----+-----+-----+---+---+----+----+\n",
      "|        Mazda RX4|21.0|  6|160.0|110| 3.9| 2.62|16.46|  0|  1|   4|   4|\n",
      "|    Mazda RX4 Wag|21.0|  6|160.0|110| 3.9|2.875|17.02|  0|  1|   4|   4|\n",
      "|       Datsun 710|22.8|  4|108.0| 93|3.85| 2.32|18.61|  1|  1|   4|   1|\n",
      "|   Hornet 4 Drive|21.4|  6|258.0|110|3.08|3.215|19.44|  1|  0|   3|   1|\n",
      "|Hornet Sportabout|18.7|  8|360.0|175|3.15| 3.44|17.02|  0|  0|   3|   2|\n",
      "+-----------------+----+---+-----+---+----+-----+-----+---+---+----+----+\n",
      "only showing top 5 rows\n",
      "\n"
     ]
    }
   ],
   "source": [
    "mtcars.show(5)"
   ]
  },
  {
   "cell_type": "code",
   "execution_count": 27,
   "metadata": {},
   "outputs": [
    {
     "name": "stdout",
     "output_type": "stream",
     "text": [
      "+-----------------+----+---+-----+---+----+-----+-----+---+---+----+----+\n",
      "|model            |mpg |cyl|disp |hp |drat|wt   |qsec |vs |am |gear|carb|\n",
      "+-----------------+----+---+-----+---+----+-----+-----+---+---+----+----+\n",
      "|Mazda RX4        |21.0|6  |160.0|110|3.9 |2.62 |16.46|0  |1  |4   |4   |\n",
      "|Mazda RX4 Wag    |21.0|6  |160.0|110|3.9 |2.875|17.02|0  |1  |4   |4   |\n",
      "|Datsun 710       |22.8|4  |108.0|93 |3.85|2.32 |18.61|1  |1  |4   |1   |\n",
      "|Hornet 4 Drive   |21.4|6  |258.0|110|3.08|3.215|19.44|1  |0  |3   |1   |\n",
      "|Hornet Sportabout|18.7|8  |360.0|175|3.15|3.44 |17.02|0  |0  |3   |2   |\n",
      "+-----------------+----+---+-----+---+----+-----+-----+---+---+----+----+\n",
      "only showing top 5 rows\n",
      "\n"
     ]
    }
   ],
   "source": [
    "mtcars.show(n=5,truncate=False)"
   ]
  },
  {
   "cell_type": "code",
   "execution_count": 29,
   "metadata": {},
   "outputs": [
    {
     "data": {
      "text/plain": [
       "Row(model='Mazda RX4', mpg=21.0, cyl=6, disp=160.0, hp=110, drat=3.9, wt=2.62, qsec=16.46, vs=0, am=1, gear=4, carb=4)"
      ]
     },
     "execution_count": 29,
     "metadata": {},
     "output_type": "execute_result"
    }
   ],
   "source": [
    "mtcars.collect()[0]"
   ]
  },
  {
   "cell_type": "markdown",
   "metadata": {},
   "source": [
    "### Create DataFrame with createDataFrame function\n",
    "\n",
    "#### From an RDD"
   ]
  },
  {
   "cell_type": "code",
   "execution_count": 30,
   "metadata": {},
   "outputs": [
    {
     "data": {
      "text/plain": [
       "[Row(x=[1, 2, 3], y=['a', 'b', 'c']), Row(x=[4, 5, 6], y=['e', 'f', 'g'])]"
      ]
     },
     "execution_count": 30,
     "metadata": {},
     "output_type": "execute_result"
    }
   ],
   "source": [
    "from pyspark.sql import Row\n",
    "\n",
    "rdd = sc.parallelize([\n",
    "    Row(x=[1,2,3],y=['a','b','c']),\n",
    "    Row(x=[4,5,6],y=['e','f','g']),\n",
    "])\n",
    "\n",
    "rdd.collect()"
   ]
  },
  {
   "cell_type": "code",
   "execution_count": 31,
   "metadata": {},
   "outputs": [
    {
     "name": "stdout",
     "output_type": "stream",
     "text": [
      "+---------+---------+\n",
      "|        x|        y|\n",
      "+---------+---------+\n",
      "|[1, 2, 3]|[a, b, c]|\n",
      "|[4, 5, 6]|[e, f, g]|\n",
      "+---------+---------+\n",
      "\n"
     ]
    }
   ],
   "source": [
    "df = spark.createDataFrame(rdd)\n",
    "df.show(5)"
   ]
  },
  {
   "cell_type": "code",
   "execution_count": 32,
   "metadata": {},
   "outputs": [
    {
     "data": {
      "text/plain": [
       "'abcdefghijklmnopqrstuvwxyz'"
      ]
     },
     "execution_count": 32,
     "metadata": {},
     "output_type": "execute_result"
    }
   ],
   "source": [
    "import string\n",
    "string.ascii_lowercase"
   ]
  },
  {
   "cell_type": "code",
   "execution_count": 36,
   "metadata": {},
   "outputs": [
    {
     "data": {
      "text/plain": [
       "[['a', 1], ['b', 2], ['c', 3], ['d', 4], ['e', 5]]"
      ]
     },
     "execution_count": 36,
     "metadata": {},
     "output_type": "execute_result"
    }
   ],
   "source": [
    "alphabets = [[y,x+1] for x,y in enumerate(string.ascii_lowercase) ] \n",
    "alphabets[:5]"
   ]
  },
  {
   "cell_type": "code",
   "execution_count": 38,
   "metadata": {},
   "outputs": [
    {
     "name": "stdout",
     "output_type": "stream",
     "text": [
      "+------+------+\n",
      "|letter|number|\n",
      "+------+------+\n",
      "|a     |1     |\n",
      "|b     |2     |\n",
      "|c     |3     |\n",
      "|d     |4     |\n",
      "|e     |5     |\n",
      "+------+------+\n",
      "only showing top 5 rows\n",
      "\n"
     ]
    }
   ],
   "source": [
    "df = spark.createDataFrame(alphabets,['letter','number'])\n",
    "df.show(5,truncate=False)"
   ]
  },
  {
   "cell_type": "code",
   "execution_count": 39,
   "metadata": {},
   "outputs": [
    {
     "data": {
      "text/plain": [
       "[('letter', 'string'), ('number', 'bigint')]"
      ]
     },
     "execution_count": 39,
     "metadata": {},
     "output_type": "execute_result"
    }
   ],
   "source": [
    "\n",
    "df.dtypes"
   ]
  },
  {
   "cell_type": "code",
   "execution_count": 43,
   "metadata": {},
   "outputs": [],
   "source": [
    "SPARK=spark.createDataFrame([employee])"
   ]
  },
  {
   "cell_type": "code",
   "execution_count": 44,
   "metadata": {},
   "outputs": [
    {
     "name": "stdout",
     "output_type": "stream",
     "text": [
      "+----------+------+------------+\n",
      "| firstname|gender|    lastname|\n",
      "+----------+------+------------+\n",
      "|Ashokkumar|  Male|Ramakrishnan|\n",
      "+----------+------+------------+\n",
      "\n"
     ]
    }
   ],
   "source": [
    "SPARK.show()"
   ]
  },
  {
   "cell_type": "code",
   "execution_count": 45,
   "metadata": {},
   "outputs": [
    {
     "data": {
      "text/plain": [
       "[Row(firstname='Ashokkumar', gender='Male', lastname='Ramakrishnan')]"
      ]
     },
     "execution_count": 45,
     "metadata": {},
     "output_type": "execute_result"
    }
   ],
   "source": [
    "SPARK.collect()"
   ]
  },
  {
   "cell_type": "code",
   "execution_count": 46,
   "metadata": {},
   "outputs": [
    {
     "name": "stdout",
     "output_type": "stream",
     "text": [
      "+---+---+\n",
      "|_1 |_2 |\n",
      "+---+---+\n",
      "|a  |1  |\n",
      "|b  |2  |\n",
      "|c  |3  |\n",
      "|d  |4  |\n",
      "|e  |5  |\n",
      "+---+---+\n",
      "only showing top 5 rows\n",
      "\n"
     ]
    }
   ],
   "source": [
    "df = spark.createDataFrame(alphabets)\n",
    "df.show(5,truncate=False)"
   ]
  },
  {
   "cell_type": "code",
   "execution_count": 48,
   "metadata": {},
   "outputs": [
    {
     "name": "stdout",
     "output_type": "stream",
     "text": [
      "+------+------+\n",
      "|     x|     y|\n",
      "+------+------+\n",
      "|[a, 1]|[b, 2]|\n",
      "+------+------+\n",
      "\n",
      "\n",
      "    Printing collect \n",
      "\n",
      "    [Row(x=['a', '1'], y=['b', '2'])]\n",
      "    \n",
      "\n",
      "    Printing show \n",
      "\n",
      "    None\n",
      "    \n",
      "\n",
      "    \n"
     ]
    }
   ],
   "source": [
    "def collect_show(df):\n",
    "    print(\"\"\"\n",
    "    Printing collect \\n\n",
    "    %s\n",
    "    \\n\n",
    "    Printing show \\n\n",
    "    %s\n",
    "    \\n\n",
    "    \"\"\" %(df.collect(),df.show()))\n",
    "my_list = [(['a', 1], ['b', 2])]\n",
    "df = spark.createDataFrame(my_list, ['x', 'y'])\n",
    "collect_show(df)"
   ]
  },
  {
   "cell_type": "markdown",
   "metadata": {},
   "source": [
    "## Column instance\n",
    "### Column instances can be created in two ways:\n",
    "\n",
    "directly select a column out of a DataFrame: df.colName\n",
    "create from a column expression: df.colName + 1\n",
    "Technically, there is only one way to create a column instance. Column expressions start from a column instance.\n",
    "\n",
    "#### Remember how to create column instances, because this is usually the starting point if we want to operate DataFrame columns.\n",
    "\n",
    "The column classes come with some methods that can operate on a column instance. ```However, almost all functions from the pyspark.sql.functions module take one or more column instances as argument(s)```. These functions are important for data manipulation tools.\n",
    "\n",
    "## DataFrame column methods\n",
    "### Methods that take column names as arguments:\n",
    "* corr(col1, col2): two column names.\n",
    "* cov(col1, col2): two column names.\n",
    "* crosstab(col1, col2): two column names.\n",
    "* describe(*cols): `cols` refers to only column names (strings).*\n",
    "### Methods that take column names or column expressions or both as arguments:\n",
    "* cube(*cols): column names (string) or column expressions or both.\n",
    "* drop(*cols): a list of column names OR a single column expression.\n",
    "* groupBy(*cols): column name (string) or column expression or both.\n",
    "* rollup(*cols): column name (string) or column expression or both.\n",
    "* select(*cols): column name (string) or column expression or both.\n",
    "* sort(*cols, **kwargs): column name (string) or column expression or both.\n",
    "* sortWithinPartitions(*cols, **kwargs): column name (string) or column expression or both.\n",
    "* orderBy(*cols, **kwargs): column name (string) or column expression or both.\n",
    "* sampleBy(col, fractions, sed=None): a column name.\n",
    "* toDF(*cols): a list of column names (string).\n",
    "* withColumn(colName, col): colName refers to column name; col refers to a column expression.\n",
    "* withColumnRenamed(existing, new): takes column names as arguments.\n",
    "* filter(condition): *condition refers to a column expression that returns types.BooleanType of values."
   ]
  },
  {
   "cell_type": "code",
   "execution_count": 51,
   "metadata": {},
   "outputs": [
    {
     "data": {
      "text/plain": [
       "32"
      ]
     },
     "execution_count": 51,
     "metadata": {},
     "output_type": "execute_result"
    }
   ],
   "source": [
    "mtcars.count()"
   ]
  },
  {
   "cell_type": "code",
   "execution_count": 52,
   "metadata": {},
   "outputs": [
    {
     "name": "stdout",
     "output_type": "stream",
     "text": [
      "+-----------------+----+---+-----+---+----+-----+-----+---+---+----+----+\n",
      "|            model| mpg|cyl| disp| hp|drat|   wt| qsec| vs| am|gear|carb|\n",
      "+-----------------+----+---+-----+---+----+-----+-----+---+---+----+----+\n",
      "|        Mazda RX4|21.0|  6|160.0|110| 3.9| 2.62|16.46|  0|  1|   4|   4|\n",
      "|    Mazda RX4 Wag|21.0|  6|160.0|110| 3.9|2.875|17.02|  0|  1|   4|   4|\n",
      "|       Datsun 710|22.8|  4|108.0| 93|3.85| 2.32|18.61|  1|  1|   4|   1|\n",
      "|   Hornet 4 Drive|21.4|  6|258.0|110|3.08|3.215|19.44|  1|  0|   3|   1|\n",
      "|Hornet Sportabout|18.7|  8|360.0|175|3.15| 3.44|17.02|  0|  0|   3|   2|\n",
      "+-----------------+----+---+-----+---+----+-----+-----+---+---+----+----+\n",
      "only showing top 5 rows\n",
      "\n"
     ]
    }
   ],
   "source": [
    "mtcars.show(5)"
   ]
  },
  {
   "cell_type": "code",
   "execution_count": 54,
   "metadata": {},
   "outputs": [
    {
     "data": {
      "text/plain": [
       "0.7909485863698064"
      ]
     },
     "execution_count": 54,
     "metadata": {},
     "output_type": "execute_result"
    }
   ],
   "source": [
    "mtcars.corr(\"disp\",\"hp\")"
   ]
  },
  {
   "cell_type": "code",
   "execution_count": 55,
   "metadata": {},
   "outputs": [
    {
     "data": {
      "text/plain": [
       "6721.158669354838"
      ]
     },
     "execution_count": 55,
     "metadata": {},
     "output_type": "execute_result"
    }
   ],
   "source": [
    "mtcars.cov(\"disp\",\"hp\")"
   ]
  },
  {
   "cell_type": "code",
   "execution_count": 56,
   "metadata": {},
   "outputs": [
    {
     "data": {
      "text/plain": [
       "DataFrame[disp_hp: string, 105: bigint, 109: bigint, 110: bigint, 113: bigint, 123: bigint, 150: bigint, 175: bigint, 180: bigint, 205: bigint, 215: bigint, 230: bigint, 245: bigint, 264: bigint, 335: bigint, 52: bigint, 62: bigint, 65: bigint, 66: bigint, 91: bigint, 93: bigint, 95: bigint, 97: bigint]"
      ]
     },
     "execution_count": 56,
     "metadata": {},
     "output_type": "execute_result"
    }
   ],
   "source": [
    "mtcars.crosstab(\"disp\",\"hp\")"
   ]
  },
  {
   "cell_type": "code",
   "execution_count": 58,
   "metadata": {},
   "outputs": [
    {
     "name": "stdout",
     "output_type": "stream",
     "text": [
      "+--------------+----+---+-----+---+----+-----+-----+---+---+----+----+\n",
      "|         model| mpg|cyl| disp| hp|drat|   wt| qsec| vs| am|gear|carb|\n",
      "+--------------+----+---+-----+---+----+-----+-----+---+---+----+----+\n",
      "|     Mazda RX4|21.0|  6|160.0|110| 3.9| 2.62|16.46|  0|  1|   4|   4|\n",
      "| Mazda RX4 Wag|21.0|  6|160.0|110| 3.9|2.875|17.02|  0|  1|   4|   4|\n",
      "|    Datsun 710|22.8|  4|108.0| 93|3.85| 2.32|18.61|  1|  1|   4|   1|\n",
      "|Hornet 4 Drive|21.4|  6|258.0|110|3.08|3.215|19.44|  1|  0|   3|   1|\n",
      "+--------------+----+---+-----+---+----+-----+-----+---+---+----+----+\n",
      "only showing top 4 rows\n",
      "\n"
     ]
    }
   ],
   "source": [
    "mtcars.show(4)"
   ]
  },
  {
   "cell_type": "code",
   "execution_count": 60,
   "metadata": {},
   "outputs": [
    {
     "name": "stdout",
     "output_type": "stream",
     "text": [
      "+------------------+----+---+-----+---+----+-----+-----+---+---+----+----+\n",
      "|             model| mpg|cyl| disp| hp|drat|   wt| qsec| vs| am|gear|carb|\n",
      "+------------------+----+---+-----+---+----+-----+-----+---+---+----+----+\n",
      "|       AMC Javelin|15.2|  8|304.0|150|3.15|3.435| 17.3|  0|  0|   3|   2|\n",
      "|Cadillac Fleetwood|10.4|  8|472.0|205|2.93| 5.25|17.98|  0|  0|   3|   4|\n",
      "|        Camaro Z28|13.3|  8|350.0|245|3.73| 3.84|15.41|  0|  0|   3|   4|\n",
      "| Chrysler Imperial|14.7|  8|440.0|230|3.23|5.345|17.42|  0|  0|   3|   4|\n",
      "+------------------+----+---+-----+---+----+-----+-----+---+---+----+----+\n",
      "only showing top 4 rows\n",
      "\n"
     ]
    }
   ],
   "source": [
    "mtcars.orderBy(\"model\").show(4)"
   ]
  },
  {
   "cell_type": "code",
   "execution_count": 68,
   "metadata": {},
   "outputs": [
    {
     "name": "stdout",
     "output_type": "stream",
     "text": [
      "+--------------+----+---+-----+---+----+-----+-----+---+---+----+\n",
      "|         model| mpg|cyl| disp| hp|drat|   wt| qsec| vs| am|gear|\n",
      "+--------------+----+---+-----+---+----+-----+-----+---+---+----+\n",
      "|     Mazda RX4|21.0|  6|160.0|110| 3.9| 2.62|16.46|  0|  1|   4|\n",
      "| Mazda RX4 Wag|21.0|  6|160.0|110| 3.9|2.875|17.02|  0|  1|   4|\n",
      "|    Datsun 710|22.8|  4|108.0| 93|3.85| 2.32|18.61|  1|  1|   4|\n",
      "|Hornet 4 Drive|21.4|  6|258.0|110|3.08|3.215|19.44|  1|  0|   3|\n",
      "+--------------+----+---+-----+---+----+-----+-----+---+---+----+\n",
      "only showing top 4 rows\n",
      "\n"
     ]
    }
   ],
   "source": [
    "mtcars.drop('carb').show(4)"
   ]
  },
  {
   "cell_type": "code",
   "execution_count": 73,
   "metadata": {},
   "outputs": [
    {
     "data": {
      "text/plain": [
       "[Row(avg(mpg)=20.090624999999996, avg(cyl)=6.1875, avg(disp)=230.72187500000004, avg(hp)=146.6875, avg(drat)=3.5965625000000006, avg(wt)=3.2172499999999995, avg(qsec)=17.848750000000003, avg(vs)=0.4375, avg(am)=0.40625, avg(gear)=3.6875, avg(carb)=2.8125)]"
      ]
     },
     "execution_count": 73,
     "metadata": {},
     "output_type": "execute_result"
    }
   ],
   "source": [
    "row_group_cars = mtcars.groupBy().avg().collect()\n",
    "row_group_cars"
   ]
  },
  {
   "cell_type": "code",
   "execution_count": 76,
   "metadata": {},
   "outputs": [
    {
     "data": {
      "text/plain": [
       "11"
      ]
     },
     "execution_count": 76,
     "metadata": {},
     "output_type": "execute_result"
    }
   ],
   "source": [
    "len(row_group_cars[0])"
   ]
  },
  {
   "cell_type": "code",
   "execution_count": 97,
   "metadata": {},
   "outputs": [
    {
     "data": {
      "text/plain": [
       "dict_items([('avg(mpg)', 20.090624999999996), ('avg(cyl)', 6.1875), ('avg(disp)', 230.72187500000004), ('avg(hp)', 146.6875), ('avg(drat)', 3.5965625000000006), ('avg(wt)', 3.2172499999999995), ('avg(qsec)', 17.848750000000003), ('avg(vs)', 0.4375), ('avg(am)', 0.40625), ('avg(gear)', 3.6875), ('avg(carb)', 2.8125)])"
      ]
     },
     "execution_count": 97,
     "metadata": {},
     "output_type": "execute_result"
    }
   ],
   "source": [
    "row_group_cars[0].asDict().items()"
   ]
  },
  {
   "cell_type": "code",
   "execution_count": 99,
   "metadata": {},
   "outputs": [
    {
     "name": "stdout",
     "output_type": "stream",
     "text": [
      "+-------------+----+---+-----+---+----+-----+-----+---+---+----+----+\n",
      "|        model| mpg|cyl| disp| hp|drat|   wt| qsec| vs| am|gear|carb|\n",
      "+-------------+----+---+-----+---+----+-----+-----+---+---+----+----+\n",
      "|    Mazda RX4|21.0|  6|160.0|110| 3.9| 2.62|16.46|  0|  1|   4|   4|\n",
      "|Mazda RX4 Wag|21.0|  6|160.0|110| 3.9|2.875|17.02|  0|  1|   4|   4|\n",
      "+-------------+----+---+-----+---+----+-----+-----+---+---+----+----+\n",
      "only showing top 2 rows\n",
      "\n"
     ]
    }
   ],
   "source": [
    "mtcars.select('*').show(2)"
   ]
  },
  {
   "cell_type": "code",
   "execution_count": 100,
   "metadata": {},
   "outputs": [
    {
     "name": "stdout",
     "output_type": "stream",
     "text": [
      "+-------------+----+\n",
      "|        model| mpg|\n",
      "+-------------+----+\n",
      "|    Mazda RX4|21.0|\n",
      "|Mazda RX4 Wag|21.0|\n",
      "+-------------+----+\n",
      "only showing top 2 rows\n",
      "\n"
     ]
    }
   ],
   "source": [
    "mtcars.select(\"model\",\"mpg\").show(2)"
   ]
  },
  {
   "cell_type": "code",
   "execution_count": 101,
   "metadata": {},
   "outputs": [
    {
     "name": "stdout",
     "output_type": "stream",
     "text": [
      "+-------------+----+\n",
      "|        model| mpg|\n",
      "+-------------+----+\n",
      "|    Mazda RX4|21.0|\n",
      "|Mazda RX4 Wag|21.0|\n",
      "+-------------+----+\n",
      "only showing top 2 rows\n",
      "\n"
     ]
    }
   ],
   "source": [
    "mtcars.select(mtcars.model, mtcars.mpg).show(2)"
   ]
  },
  {
   "cell_type": "code",
   "execution_count": 102,
   "metadata": {},
   "outputs": [
    {
     "name": "stdout",
     "output_type": "stream",
     "text": [
      "+-------------+----+\n",
      "|        model| MPG|\n",
      "+-------------+----+\n",
      "|    Mazda RX4|31.0|\n",
      "|Mazda RX4 Wag|31.0|\n",
      "+-------------+----+\n",
      "only showing top 2 rows\n",
      "\n"
     ]
    }
   ],
   "source": [
    "mtcars.select(mtcars.model, (mtcars.mpg+10).alias('MPG')).show(2)"
   ]
  },
  {
   "cell_type": "code",
   "execution_count": 106,
   "metadata": {},
   "outputs": [
    {
     "name": "stdout",
     "output_type": "stream",
     "text": [
      "+--------------+----+---+-----+---+----+-----+-----+---+---+----+----+\n",
      "|         model| mpg|cyl| disp| hp|drat|   wt| qsec| vs| am|gear|carb|\n",
      "+--------------+----+---+-----+---+----+-----+-----+---+---+----+----+\n",
      "|    Volvo 142E|21.4|  4|121.0|109|4.11| 2.78| 18.6|  1|  1|   4|   2|\n",
      "|       Valiant|18.1|  6|225.0|105|2.76| 3.46|20.22|  1|  0|   3|   1|\n",
      "| Toyota Corona|21.5|  4|120.1| 97| 3.7|2.465|20.01|  1|  0|   3|   1|\n",
      "|Toyota Corolla|33.9|  4| 71.1| 65|4.22|1.835| 19.9|  1|  1|   4|   1|\n",
      "+--------------+----+---+-----+---+----+-----+-----+---+---+----+----+\n",
      "only showing top 4 rows\n",
      "\n"
     ]
    }
   ],
   "source": [
    "mtcars.sort(mtcars.model.desc()).show(4)"
   ]
  },
  {
   "cell_type": "code",
   "execution_count": 108,
   "metadata": {},
   "outputs": [
    {
     "name": "stdout",
     "output_type": "stream",
     "text": [
      "+-------------+----+---+-----+---+----+-----+-----+---+---+----+----+\n",
      "|        model| mpg|cyl| disp| hp|drat|   wt| qsec| vs| am|gear|carb|\n",
      "+-------------+----+---+-----+---+----+-----+-----+---+---+----+----+\n",
      "|   Volvo 142E|21.4|  4|121.0|109|4.11| 2.78| 18.6|  1|  1|   4|   2|\n",
      "|      Valiant|18.1|  6|225.0|105|2.76| 3.46|20.22|  1|  0|   3|   1|\n",
      "|Toyota Corona|21.5|  4|120.1| 97| 3.7|2.465|20.01|  1|  0|   3|   1|\n",
      "+-------------+----+---+-----+---+----+-----+-----+---+---+----+----+\n",
      "only showing top 3 rows\n",
      "\n"
     ]
    }
   ],
   "source": [
    "mtcars.sort(\"model\", ascending=False).show(3)"
   ]
  },
  {
   "cell_type": "code",
   "execution_count": 110,
   "metadata": {},
   "outputs": [
    {
     "name": "stdout",
     "output_type": "stream",
     "text": [
      "+------------------+----+---+-----+---+----+-----+-----+---+---+----+----+\n",
      "|             model| mpg|cyl| disp| hp|drat|   wt| qsec| vs| am|gear|carb|\n",
      "+------------------+----+---+-----+---+----+-----+-----+---+---+----+----+\n",
      "|       AMC Javelin|15.2|  8|304.0|150|3.15|3.435| 17.3|  0|  0|   3|   2|\n",
      "|Cadillac Fleetwood|10.4|  8|472.0|205|2.93| 5.25|17.98|  0|  0|   3|   4|\n",
      "|        Camaro Z28|13.3|  8|350.0|245|3.73| 3.84|15.41|  0|  0|   3|   4|\n",
      "+------------------+----+---+-----+---+----+-----+-----+---+---+----+----+\n",
      "only showing top 3 rows\n",
      "\n"
     ]
    }
   ],
   "source": [
    "mtcars.orderBy([\"model\",\"cyl\"],ascending=[1,0]).show(3)"
   ]
  },
  {
   "cell_type": "code",
   "execution_count": 111,
   "metadata": {},
   "outputs": [
    {
     "name": "stdout",
     "output_type": "stream",
     "text": [
      "+-------------+----+---+-----+---+----+-----+-----+---+---+----+----+\n",
      "|        model| mpg|cyl| disp| hp|drat|   wt| qsec| vs| am|gear|carb|\n",
      "+-------------+----+---+-----+---+----+-----+-----+---+---+----+----+\n",
      "|   Volvo 142E|21.4|  4|121.0|109|4.11| 2.78| 18.6|  1|  1|   4|   2|\n",
      "|      Valiant|18.1|  6|225.0|105|2.76| 3.46|20.22|  1|  0|   3|   1|\n",
      "|Toyota Corona|21.5|  4|120.1| 97| 3.7|2.465|20.01|  1|  0|   3|   1|\n",
      "+-------------+----+---+-----+---+----+-----+-----+---+---+----+----+\n",
      "only showing top 3 rows\n",
      "\n"
     ]
    }
   ],
   "source": [
    "mtcars.orderBy([\"model\",\"cyl\"],ascending=[0,1]).show(3)"
   ]
  },
  {
   "cell_type": "code",
   "execution_count": 115,
   "metadata": {},
   "outputs": [
    {
     "data": {
      "text/plain": [
       "32"
      ]
     },
     "execution_count": 115,
     "metadata": {},
     "output_type": "execute_result"
    }
   ],
   "source": [
    "mtcars.sortWithinPartitions(\"model\",ascending=False).count()"
   ]
  },
  {
   "cell_type": "code",
   "execution_count": 116,
   "metadata": {},
   "outputs": [
    {
     "data": {
      "text/plain": [
       "32"
      ]
     },
     "execution_count": 116,
     "metadata": {},
     "output_type": "execute_result"
    }
   ],
   "source": [
    "mtcars.count()"
   ]
  },
  {
   "cell_type": "code",
   "execution_count": 118,
   "metadata": {},
   "outputs": [
    {
     "name": "stdout",
     "output_type": "stream",
     "text": [
      "+--------------+----+---+----+---+----+-----+-----+---+---+----+----+\n",
      "|         model| mpg|cyl|disp| hp|drat|   wt| qsec| vs| am|gear|carb|\n",
      "+--------------+----+---+----+---+----+-----+-----+---+---+----+----+\n",
      "|Toyota Corolla|33.9|  4|71.1| 65|4.22|1.835| 19.9|  1|  1|   4|   1|\n",
      "|      Fiat 128|32.4|  4|78.7| 66|4.08|  2.2|19.47|  1|  1|   4|   1|\n",
      "|   Honda Civic|30.4|  4|75.7| 52|4.93|1.615|18.52|  1|  1|   4|   2|\n",
      "|  Lotus Europa|30.4|  4|95.1|113|3.77|1.513| 16.9|  1|  1|   5|   2|\n",
      "+--------------+----+---+----+---+----+-----+-----+---+---+----+----+\n",
      "only showing top 4 rows\n",
      "\n"
     ]
    }
   ],
   "source": [
    "mtcars.sortWithinPartitions(\"mpg\",ascending=False).show(4)"
   ]
  },
  {
   "cell_type": "code",
   "execution_count": 119,
   "metadata": {},
   "outputs": [],
   "source": [
    "df = spark.createDataFrame([(\"2016-03-11 09:00:07\", 1)]).toDF(\"date\", \"val\")"
   ]
  },
  {
   "cell_type": "code",
   "execution_count": 120,
   "metadata": {},
   "outputs": [
    {
     "name": "stdout",
     "output_type": "stream",
     "text": [
      "+-------------------+---+\n",
      "|               date|val|\n",
      "+-------------------+---+\n",
      "|2016-03-11 09:00:07|  1|\n",
      "+-------------------+---+\n",
      "\n"
     ]
    }
   ],
   "source": [
    "df.show()"
   ]
  },
  {
   "cell_type": "code",
   "execution_count": 129,
   "metadata": {},
   "outputs": [
    {
     "data": {
      "text/plain": [
       "[Row(cyl=6, sum(mpg)=138.2, sum(cyl)=42, sum(disp)=1283.2, sum(hp)=856, sum(drat)=25.099999999999998, sum(wt)=21.82, sum(qsec)=125.84, sum(vs)=4, sum(am)=3, sum(gear)=27, sum(carb)=24),\n",
       " Row(cyl=4, sum(mpg)=293.3, sum(cyl)=44, sum(disp)=1156.5, sum(hp)=909, sum(drat)=44.78, sum(wt)=25.143, sum(qsec)=210.50999999999996, sum(vs)=10, sum(am)=8, sum(gear)=45, sum(carb)=17),\n",
       " Row(cyl=8, sum(mpg)=211.40000000000003, sum(cyl)=112, sum(disp)=4943.4, sum(hp)=2929, sum(drat)=45.209999999999994, sum(wt)=55.98900000000001, sum(qsec)=234.81, sum(vs)=0, sum(am)=2, sum(gear)=46, sum(carb)=49)]"
      ]
     },
     "execution_count": 129,
     "metadata": {},
     "output_type": "execute_result"
    }
   ],
   "source": [
    "mtcars.groupBy(\"cyl\").sum().collect()"
   ]
  },
  {
   "cell_type": "code",
   "execution_count": 130,
   "metadata": {},
   "outputs": [
    {
     "name": "stdout",
     "output_type": "stream",
     "text": [
      "+---+--------+\n",
      "|cyl|count(1)|\n",
      "+---+--------+\n",
      "|  6|       7|\n",
      "|  4|      11|\n",
      "|  8|      14|\n",
      "+---+--------+\n",
      "\n"
     ]
    }
   ],
   "source": [
    "mtcars.groupBy(\"cyl\").agg({\"*\":\"count\"}).show()"
   ]
  },
  {
   "cell_type": "code",
   "execution_count": 132,
   "metadata": {},
   "outputs": [],
   "source": [
    "from pyspark.sql.functions import split"
   ]
  },
  {
   "cell_type": "code",
   "execution_count": 139,
   "metadata": {},
   "outputs": [
    {
     "name": "stdout",
     "output_type": "stream",
     "text": [
      "+--------+--------+\n",
      "|   model|count(1)|\n",
      "+--------+--------+\n",
      "|  Hornet|       2|\n",
      "|Maserati|       1|\n",
      "|   Volvo|       1|\n",
      "|   Honda|       1|\n",
      "|Cadillac|       1|\n",
      "| Pontiac|       1|\n",
      "| Lincoln|       1|\n",
      "|Chrysler|       1|\n",
      "|  Camaro|       1|\n",
      "|     AMC|       1|\n",
      "|  Datsun|       1|\n",
      "| Ferrari|       1|\n",
      "|  Duster|       1|\n",
      "| Porsche|       1|\n",
      "| Valiant|       1|\n",
      "|   Lotus|       1|\n",
      "|  Toyota|       2|\n",
      "|   Dodge|       1|\n",
      "|   Mazda|       2|\n",
      "|    Fiat|       2|\n",
      "+--------+--------+\n",
      "only showing top 20 rows\n",
      "\n"
     ]
    }
   ],
   "source": [
    "mtcars.select(split(mtcars.model,\" \")[0].alias('model')).groupBy(\"model\").agg({\"*\":\"count\"}).show()"
   ]
  },
  {
   "cell_type": "code",
   "execution_count": 143,
   "metadata": {},
   "outputs": [
    {
     "name": "stdout",
     "output_type": "stream",
     "text": [
      "+------+\n",
      "| model|\n",
      "+------+\n",
      "| Mazda|\n",
      "| Mazda|\n",
      "|Datsun|\n",
      "|Hornet|\n",
      "+------+\n",
      "only showing top 4 rows\n",
      "\n"
     ]
    }
   ],
   "source": [
    "mtcars.select(split(mtcars.model,\" \")[0].alias('model')).show(4)"
   ]
  },
  {
   "cell_type": "code",
   "execution_count": 151,
   "metadata": {},
   "outputs": [],
   "source": [
    "mtcars_1=mtcars.withColumn(\"Cars\",split(mtcars.model,\" \")[0])"
   ]
  },
  {
   "cell_type": "code",
   "execution_count": 152,
   "metadata": {},
   "outputs": [
    {
     "name": "stdout",
     "output_type": "stream",
     "text": [
      "+-------------+----+---+-----+---+----+-----+-----+---+---+----+----+------+\n",
      "|        model| mpg|cyl| disp| hp|drat|   wt| qsec| vs| am|gear|carb|  Cars|\n",
      "+-------------+----+---+-----+---+----+-----+-----+---+---+----+----+------+\n",
      "|    Mazda RX4|21.0|  6|160.0|110| 3.9| 2.62|16.46|  0|  1|   4|   4| Mazda|\n",
      "|Mazda RX4 Wag|21.0|  6|160.0|110| 3.9|2.875|17.02|  0|  1|   4|   4| Mazda|\n",
      "|   Datsun 710|22.8|  4|108.0| 93|3.85| 2.32|18.61|  1|  1|   4|   1|Datsun|\n",
      "+-------------+----+---+-----+---+----+-----+-----+---+---+----+----+------+\n",
      "only showing top 3 rows\n",
      "\n"
     ]
    }
   ],
   "source": [
    "mtcars_1.show(3)"
   ]
  },
  {
   "cell_type": "code",
   "execution_count": 157,
   "metadata": {},
   "outputs": [
    {
     "name": "stdout",
     "output_type": "stream",
     "text": [
      "+-----------------+----+---+-----+---+----+----+-----+---+---+----+----+------+\n",
      "|            model| mpg|cyl| disp| hp|drat|  wt| qsec| vs| am|gear|carb|  Cars|\n",
      "+-----------------+----+---+-----+---+----+----+-----+---+---+----+----+------+\n",
      "|Hornet Sportabout|18.7|  8|360.0|175|3.15|3.44|17.02|  0|  0|   3|   2|Hornet|\n",
      "|       Duster 360|14.3|  8|360.0|245|3.21|3.57|15.84|  0|  0|   3|   4|Duster|\n",
      "|       Merc 450SE|16.4|  8|275.8|180|3.07|4.07| 17.4|  0|  0|   3|   3|  Merc|\n",
      "+-----------------+----+---+-----+---+----+----+-----+---+---+----+----+------+\n",
      "only showing top 3 rows\n",
      "\n"
     ]
    }
   ],
   "source": [
    "mtcars_1.filter(mtcars_1['cyl'] > 6).show(3)"
   ]
  },
  {
   "cell_type": "code",
   "execution_count": 158,
   "metadata": {},
   "outputs": [
    {
     "name": "stdout",
     "output_type": "stream",
     "text": [
      "+-----------------+----+---+-----+---+----+-----+-----+---+---+----+----+------+\n",
      "|            model| mpg|cyl| disp| hp|drat|   wt| qsec| vs| am|gear|carb|  Cars|\n",
      "+-----------------+----+---+-----+---+----+-----+-----+---+---+----+----+------+\n",
      "|   Hornet 4 Drive|21.4|  6|258.0|110|3.08|3.215|19.44|  1|  0|   3|   1|Hornet|\n",
      "|Hornet Sportabout|18.7|  8|360.0|175|3.15| 3.44|17.02|  0|  0|   3|   2|Hornet|\n",
      "+-----------------+----+---+-----+---+----+-----+-----+---+---+----+----+------+\n",
      "\n"
     ]
    }
   ],
   "source": [
    "mtcars_1.filter(mtcars_1.Cars == \"Hornet\").show(3)"
   ]
  },
  {
   "cell_type": "code",
   "execution_count": 165,
   "metadata": {},
   "outputs": [
    {
     "name": "stdout",
     "output_type": "stream",
     "text": [
      "+-------------+----+---+-----+---+----+-----+-----+---+---+----+----+------+\n",
      "|        model| mpg|cyl| disp| hp|drat|   wt| qsec| vs| am|gear|carb|  Cars|\n",
      "+-------------+----+---+-----+---+----+-----+-----+---+---+----+----+------+\n",
      "|    Mazda RX4|21.0|  6|160.0|110| 3.9| 2.62|16.46|  0|  1|   4|   4| Mazda|\n",
      "|Mazda RX4 Wag|21.0|  6|160.0|110| 3.9|2.875|17.02|  0|  1|   4|   4| Mazda|\n",
      "|   Datsun 710|22.8|  4|108.0| 93|3.85| 2.32|18.61|  1|  1|   4|   1|Datsun|\n",
      "+-------------+----+---+-----+---+----+-----+-----+---+---+----+----+------+\n",
      "only showing top 3 rows\n",
      "\n"
     ]
    }
   ],
   "source": [
    "mtcars_1.show(3)"
   ]
  },
  {
   "cell_type": "code",
   "execution_count": 166,
   "metadata": {},
   "outputs": [
    {
     "name": "stdout",
     "output_type": "stream",
     "text": [
      "+--------------+----+---+-----+---+----+-----+-----+---+---+----+----+------+\n",
      "|         model| mpg|cyl| disp| hp|drat|   wt| qsec| vs| am|gear|carb|  Cars|\n",
      "+--------------+----+---+-----+---+----+-----+-----+---+---+----+----+------+\n",
      "|     Mazda RX4|21.0|  6|161.0|110| 3.9| 2.62|16.46|  0|  1|   4|   4| Mazda|\n",
      "| Mazda RX4 Wag|21.0|  6|161.0|110| 3.9|2.875|17.02|  0|  1|   4|   4| Mazda|\n",
      "|    Datsun 710|22.8|  4|108.0| 93|3.85| 2.32|18.61|  1|  1|   4|   1|Datsun|\n",
      "|Hornet 4 Drive|21.4|  6|258.0|110|3.08|3.215|19.44|  1|  0|   3|   1|Hornet|\n",
      "+--------------+----+---+-----+---+----+-----+-----+---+---+----+----+------+\n",
      "only showing top 4 rows\n",
      "\n"
     ]
    }
   ],
   "source": [
    "mtcars_1.na.replace(160.0,161).show(4)"
   ]
  },
  {
   "cell_type": "code",
   "execution_count": 167,
   "metadata": {},
   "outputs": [
    {
     "name": "stdout",
     "output_type": "stream",
     "text": [
      "+-------------------+----+---+-----+---+----+-----+-----+---+---+----+----+--------+\n",
      "|              model| mpg|cyl| disp| hp|drat|   wt| qsec| vs| am|gear|carb|    Cars|\n",
      "+-------------------+----+---+-----+---+----+-----+-----+---+---+----+----+--------+\n",
      "|          mazda rx4|21.0|  6|160.0|110| 3.9| 2.62|16.46|  0|  1|   4|   4|   Mazda|\n",
      "|      mazda rx4 wag|21.0|  6|160.0|110| 3.9|2.875|17.02|  0|  1|   4|   4|   Mazda|\n",
      "|         Datsun 710|22.8|  4|108.0| 93|3.85| 2.32|18.61|  1|  1|   4|   1|  Datsun|\n",
      "|     Hornet 4 Drive|21.4|  6|258.0|110|3.08|3.215|19.44|  1|  0|   3|   1|  Hornet|\n",
      "|  Hornet Sportabout|18.7|  8|360.0|175|3.15| 3.44|17.02|  0|  0|   3|   2|  Hornet|\n",
      "|            Valiant|18.1|  6|225.0|105|2.76| 3.46|20.22|  1|  0|   3|   1| Valiant|\n",
      "|         Duster 360|14.3|  8|360.0|245|3.21| 3.57|15.84|  0|  0|   3|   4|  Duster|\n",
      "|          Merc 240D|24.4|  4|146.7| 62|3.69| 3.19| 20.0|  1|  0|   4|   2|    Merc|\n",
      "|           Merc 230|22.8|  4|140.8| 95|3.92| 3.15| 22.9|  1|  0|   4|   2|    Merc|\n",
      "|           Merc 280|19.2|  6|167.6|123|3.92| 3.44| 18.3|  1|  0|   4|   4|    Merc|\n",
      "|          Merc 280C|17.8|  6|167.6|123|3.92| 3.44| 18.9|  1|  0|   4|   4|    Merc|\n",
      "|         Merc 450SE|16.4|  8|275.8|180|3.07| 4.07| 17.4|  0|  0|   3|   3|    Merc|\n",
      "|         Merc 450SL|17.3|  8|275.8|180|3.07| 3.73| 17.6|  0|  0|   3|   3|    Merc|\n",
      "|        Merc 450SLC|15.2|  8|275.8|180|3.07| 3.78| 18.0|  0|  0|   3|   3|    Merc|\n",
      "| Cadillac Fleetwood|10.4|  8|472.0|205|2.93| 5.25|17.98|  0|  0|   3|   4|Cadillac|\n",
      "|Lincoln Continental|10.4|  8|460.0|215| 3.0|5.424|17.82|  0|  0|   3|   4| Lincoln|\n",
      "|  Chrysler Imperial|14.7|  8|440.0|230|3.23|5.345|17.42|  0|  0|   3|   4|Chrysler|\n",
      "|           Fiat 128|32.4|  4| 78.7| 66|4.08|  2.2|19.47|  1|  1|   4|   1|    Fiat|\n",
      "|        Honda Civic|30.4|  4| 75.7| 52|4.93|1.615|18.52|  1|  1|   4|   2|   Honda|\n",
      "|     Toyota Corolla|33.9|  4| 71.1| 65|4.22|1.835| 19.9|  1|  1|   4|   1|  Toyota|\n",
      "+-------------------+----+---+-----+---+----+-----+-----+---+---+----+----+--------+\n",
      "only showing top 20 rows\n",
      "\n"
     ]
    }
   ],
   "source": [
    "mtcars_1.na.replace(['Mazda RX4','Mazda RX4 Wag'],['mazda rx4','mazda rx4 wag'], 'model').show()"
   ]
  },
  {
   "cell_type": "markdown",
   "metadata": {},
   "source": [
    "### DataFrame to RDD\n",
    "A **DataFrame** can be easily converted to an **RDD** by calling the `pyspark.sql.DataFrame.rdd()` function. Each element in the returned RDD is an *pyspark.sql.Row* object. An Row is a list of key-value pairs.\n",
    "\n"
   ]
  },
  {
   "cell_type": "code",
   "execution_count": 168,
   "metadata": {},
   "outputs": [
    {
     "data": {
      "text/plain": [
       "[Row(model='Mazda RX4', mpg=21.0, cyl=6, disp=160.0, hp=110, drat=3.9, wt=2.62, qsec=16.46, vs=0, am=1, gear=4, carb=4),\n",
       " Row(model='Mazda RX4 Wag', mpg=21.0, cyl=6, disp=160.0, hp=110, drat=3.9, wt=2.875, qsec=17.02, vs=0, am=1, gear=4, carb=4)]"
      ]
     },
     "execution_count": 168,
     "metadata": {},
     "output_type": "execute_result"
    }
   ],
   "source": [
    "mtcars.rdd.take(2)"
   ]
  },
  {
   "cell_type": "markdown",
   "metadata": {},
   "source": [
    "With an RDD object, we can apply a set of mapping functions, such as **map, mapValues, flatMap, flatMapValues** and a lot of other methods that come from RDD."
   ]
  },
  {
   "cell_type": "code",
   "execution_count": 171,
   "metadata": {},
   "outputs": [
    {
     "data": {
      "text/plain": [
       "[('Mazda RX4', 21.0), ('Mazda RX4 Wag', 21.0), ('Datsun 710', 22.8)]"
      ]
     },
     "execution_count": 171,
     "metadata": {},
     "output_type": "execute_result"
    }
   ],
   "source": [
    "mtcars_map = mtcars.rdd.map(lambda x:(x.model,x.mpg))\n",
    "mtcars_map.take(3)"
   ]
  },
  {
   "cell_type": "code",
   "execution_count": 172,
   "metadata": {},
   "outputs": [
    {
     "data": {
      "text/plain": [
       "[('Mazda RX4', 21.0), ('Mazda RX4 Wag', 21.0), ('Datsun 710', 22.8)]"
      ]
     },
     "execution_count": 172,
     "metadata": {},
     "output_type": "execute_result"
    }
   ],
   "source": [
    "mtcars_map = mtcars.rdd.map(lambda x:(x['model'],x['mpg']))\n",
    "mtcars_map.take(3)"
   ]
  },
  {
   "cell_type": "code",
   "execution_count": 173,
   "metadata": {},
   "outputs": [
    {
     "data": {
      "text/plain": [
       "[('Mazda RX4', [21.0, 210.0]),\n",
       " ('Mazda RX4 Wag', [21.0, 210.0]),\n",
       " ('Datsun 710', [22.8, 228.0]),\n",
       " ('Hornet 4 Drive', [21.4, 214.0]),\n",
       " ('Hornet Sportabout', [18.7, 187.0])]"
      ]
     },
     "execution_count": 173,
     "metadata": {},
     "output_type": "execute_result"
    }
   ],
   "source": [
    "mtcars_mapvalues = mtcars_map.mapValues(lambda x: [x, x * 10])\n",
    "mtcars_mapvalues.take(5)"
   ]
  },
  {
   "cell_type": "markdown",
   "metadata": {},
   "source": [
    "### RDD to DataFrame\n",
    "To convert an RDD to a DataFrame, we can use the SparkSession.createDataFrame() function. Every element in the **RDD has be to an Row object."
   ]
  },
  {
   "cell_type": "code",
   "execution_count": 174,
   "metadata": {},
   "outputs": [
    {
     "data": {
      "text/plain": [
       "['model,mpg,cyl,disp,hp,drat,wt,qsec,vs,am,gear,carb',\n",
       " 'Mazda RX4,21,6,160,110,3.9,2.62,16.46,0,1,4,4',\n",
       " 'Mazda RX4 Wag,21,6,160,110,3.9,2.875,17.02,0,1,4,4',\n",
       " 'Datsun 710,22.8,4,108,93,3.85,2.32,18.61,1,1,4,1',\n",
       " 'Hornet 4 Drive,21.4,6,258,110,3.08,3.215,19.44,1,0,3,1']"
      ]
     },
     "execution_count": 174,
     "metadata": {},
     "output_type": "execute_result"
    }
   ],
   "source": [
    "rdd_raw = sc.textFile('../../data/mtcars.csv')\n",
    "rdd_raw.take(5)"
   ]
  },
  {
   "cell_type": "code",
   "execution_count": 176,
   "metadata": {},
   "outputs": [
    {
     "data": {
      "text/plain": [
       "[['model',\n",
       "  'mpg',\n",
       "  'cyl',\n",
       "  'disp',\n",
       "  'hp',\n",
       "  'drat',\n",
       "  'wt',\n",
       "  'qsec',\n",
       "  'vs',\n",
       "  'am',\n",
       "  'gear',\n",
       "  'carb']]"
      ]
     },
     "execution_count": 176,
     "metadata": {},
     "output_type": "execute_result"
    }
   ],
   "source": [
    "rdd_raw.map(lambda x: x.split(',')).take(1)"
   ]
  },
  {
   "cell_type": "code",
   "execution_count": 179,
   "metadata": {},
   "outputs": [],
   "source": [
    "rdd_raw_split_map = rdd_raw.map(lambda x: x.split(','))"
   ]
  },
  {
   "cell_type": "code",
   "execution_count": 182,
   "metadata": {},
   "outputs": [
    {
     "name": "stdout",
     "output_type": "stream",
     "text": [
      "Header : ['model', 'mpg', 'cyl', 'disp', 'hp', 'drat', 'wt', 'qsec', 'vs', 'am', 'gear', 'carb']\n",
      "[['Mazda RX4', '21', '6', '160', '110', '3.9', '2.62', '16.46', '0', '1', '4', '4']]\n"
     ]
    }
   ],
   "source": [
    "header = rdd_raw.map(lambda x: x.split(',')).filter(lambda x: x[1] == 'mpg').collect()[0]\n",
    "rdd = rdd_raw_split_map.filter(lambda x:x[0] != 'model')\n",
    "print(\"Header :\", header)\n",
    "print(rdd.take(1))"
   ]
  },
  {
   "cell_type": "markdown",
   "metadata": {},
   "source": [
    "#### Convert RDD elements to RDD Row objects\n",
    "First we define a function which takes a list of column names and a list of values and create a Row of key-value pairs. Since keys in an Row object are variable names, we can’t simply pass a dictionary to the Row() function. We can think of a dictionary as an argument list and use the ** to unpack the argument list.\n",
    "\n",
    "See an example."
   ]
  },
  {
   "cell_type": "code",
   "execution_count": 183,
   "metadata": {},
   "outputs": [],
   "source": [
    "from pyspark.sql import Row"
   ]
  },
  {
   "cell_type": "code",
   "execution_count": 185,
   "metadata": {},
   "outputs": [],
   "source": [
    "abcd=string.ascii_lowercase\n",
    "my_dict = dict(\n",
    "                zip(\n",
    "                    list(abcd), \n",
    "                    range(1,len(abcd)+1)\n",
    "                    )\n",
    "              )"
   ]
  },
  {
   "cell_type": "code",
   "execution_count": 187,
   "metadata": {},
   "outputs": [
    {
     "data": {
      "text/plain": [
       "Row(a=1, b=2, c=3, d=4, e=5, f=6, g=7, h=8, i=9, j=10, k=11, l=12, m=13, n=14, o=15, p=16, q=17, r=18, s=19, t=20, u=21, v=22, w=23, x=24, y=25, z=26)"
      ]
     },
     "execution_count": 187,
     "metadata": {},
     "output_type": "execute_result"
    }
   ],
   "source": [
    "Row(**my_dict)"
   ]
  },
  {
   "cell_type": "code",
   "execution_count": 188,
   "metadata": {},
   "outputs": [],
   "source": [
    "def list_to_row(keys, values):\n",
    "    row_dict = dict(zip(keys, values))\n",
    "    return Row(**row_dict)"
   ]
  },
  {
   "cell_type": "code",
   "execution_count": 189,
   "metadata": {},
   "outputs": [
    {
     "data": {
      "text/plain": [
       "[Row(am='1', carb='4', cyl='6', disp='160', drat='3.9', gear='4', hp='110', model='Mazda RX4', mpg='21', qsec='16.46', vs='0', wt='2.62'),\n",
       " Row(am='1', carb='4', cyl='6', disp='160', drat='3.9', gear='4', hp='110', model='Mazda RX4 Wag', mpg='21', qsec='17.02', vs='0', wt='2.875')]"
      ]
     },
     "execution_count": 189,
     "metadata": {},
     "output_type": "execute_result"
    }
   ],
   "source": [
    "rdd_rows = rdd.map(lambda x:list_to_row(header,x))\n",
    "rdd_rows.take(2)"
   ]
  },
  {
   "cell_type": "code",
   "execution_count": 190,
   "metadata": {},
   "outputs": [
    {
     "name": "stdout",
     "output_type": "stream",
     "text": [
      "+---+----+---+----+----+----+---+-----------------+----+-----+---+-----+\n",
      "| am|carb|cyl|disp|drat|gear| hp|            model| mpg| qsec| vs|   wt|\n",
      "+---+----+---+----+----+----+---+-----------------+----+-----+---+-----+\n",
      "|  1|   4|  6| 160| 3.9|   4|110|        Mazda RX4|  21|16.46|  0| 2.62|\n",
      "|  1|   4|  6| 160| 3.9|   4|110|    Mazda RX4 Wag|  21|17.02|  0|2.875|\n",
      "|  1|   1|  4| 108|3.85|   4| 93|       Datsun 710|22.8|18.61|  1| 2.32|\n",
      "|  0|   1|  6| 258|3.08|   3|110|   Hornet 4 Drive|21.4|19.44|  1|3.215|\n",
      "|  0|   2|  8| 360|3.15|   3|175|Hornet Sportabout|18.7|17.02|  0| 3.44|\n",
      "+---+----+---+----+----+----+---+-----------------+----+-----+---+-----+\n",
      "only showing top 5 rows\n",
      "\n"
     ]
    }
   ],
   "source": [
    "df = spark.createDataFrame(rdd_rows)\n",
    "df.show(5)"
   ]
  },
  {
   "cell_type": "code",
   "execution_count": 191,
   "metadata": {},
   "outputs": [
    {
     "name": "stdout",
     "output_type": "stream",
     "text": [
      "+-------------+----+---+----+---+----+-----+-----+---+---+----+----+\n",
      "|        model| mpg|cyl|disp| hp|drat|   wt| qsec| vs| am|gear|carb|\n",
      "+-------------+----+---+----+---+----+-----+-----+---+---+----+----+\n",
      "|    Mazda RX4|  21|  6| 160|110| 3.9| 2.62|16.46|  0|  1|   4|   4|\n",
      "|Mazda RX4 Wag|  21|  6| 160|110| 3.9|2.875|17.02|  0|  1|   4|   4|\n",
      "|   Datsun 710|22.8|  4| 108| 93|3.85| 2.32|18.61|  1|  1|   4|   1|\n",
      "+-------------+----+---+----+---+----+-----+-----+---+---+----+----+\n",
      "only showing top 3 rows\n",
      "\n"
     ]
    }
   ],
   "source": [
    "spark.createDataFrame(rdd, header).show(3)"
   ]
  },
  {
   "cell_type": "code",
   "execution_count": 193,
   "metadata": {},
   "outputs": [
    {
     "data": {
      "text/plain": [
       "[Row(model='Mazda RX4', mpg='21', cyl='6', disp='160', hp='110', drat='3.9', wt='2.62', qsec='16.46', vs='0', am='1', gear='4', carb='4'),\n",
       " Row(model='Mazda RX4 Wag', mpg='21', cyl='6', disp='160', hp='110', drat='3.9', wt='2.875', qsec='17.02', vs='0', am='1', gear='4', carb='4')]"
      ]
     },
     "execution_count": 193,
     "metadata": {},
     "output_type": "execute_result"
    }
   ],
   "source": [
    "spark.createDataFrame(rdd, header).take(2)"
   ]
  },
  {
   "cell_type": "markdown",
   "metadata": {},
   "source": [
    "### Merge multiple columns\n",
    "We convert ***DataFrame to RDD*** and then apply the **map** ``function`` to merge values and convert elements to **Row** objects."
   ]
  },
  {
   "cell_type": "code",
   "execution_count": 194,
   "metadata": {},
   "outputs": [
    {
     "data": {
      "text/plain": [
       "[Row(model='Mazda RX4', values=(21.0, 6, 160.0, 110, 3.9, 2.62, 16.46, 0, 1, 4, 4)),\n",
       " Row(model='Mazda RX4 Wag', values=(21.0, 6, 160.0, 110, 3.9, 2.875, 17.02, 0, 1, 4, 4)),\n",
       " Row(model='Datsun 710', values=(22.8, 4, 108.0, 93, 3.85, 2.32, 18.61, 1, 1, 4, 1)),\n",
       " Row(model='Hornet 4 Drive', values=(21.4, 6, 258.0, 110, 3.08, 3.215, 19.44, 1, 0, 3, 1)),\n",
       " Row(model='Hornet Sportabout', values=(18.7, 8, 360.0, 175, 3.15, 3.44, 17.02, 0, 0, 3, 2))]"
      ]
     },
     "execution_count": 194,
     "metadata": {},
     "output_type": "execute_result"
    }
   ],
   "source": [
    "mtcars_rdd = mtcars.rdd.map(lambda x : Row(model=x[0], values = x[1:]))\n",
    "mtcars_rdd.take(5)"
   ]
  },
  {
   "cell_type": "code",
   "execution_count": 195,
   "metadata": {},
   "outputs": [
    {
     "name": "stdout",
     "output_type": "stream",
     "text": [
      "+-----------------+-----------------------------------------------------+\n",
      "|model            |values                                               |\n",
      "+-----------------+-----------------------------------------------------+\n",
      "|Mazda RX4        |[21.0, 6, 160.0, 110, 3.9, 2.62, 16.46, 0, 1, 4, 4]  |\n",
      "|Mazda RX4 Wag    |[21.0, 6, 160.0, 110, 3.9, 2.875, 17.02, 0, 1, 4, 4] |\n",
      "|Datsun 710       |[22.8, 4, 108.0, 93, 3.85, 2.32, 18.61, 1, 1, 4, 1]  |\n",
      "|Hornet 4 Drive   |[21.4, 6, 258.0, 110, 3.08, 3.215, 19.44, 1, 0, 3, 1]|\n",
      "|Hornet Sportabout|[18.7, 8, 360.0, 175, 3.15, 3.44, 17.02, 0, 0, 3, 2] |\n",
      "+-----------------+-----------------------------------------------------+\n",
      "only showing top 5 rows\n",
      "\n"
     ]
    }
   ],
   "source": [
    "mtcars_df = spark.createDataFrame(mtcars_rdd)\n",
    "mtcars_df.show(n=5, truncate=False)"
   ]
  },
  {
   "cell_type": "markdown",
   "metadata": {},
   "source": [
    "### Split one column\n",
    "We use the above DataFrame as our example data. Again, we need to convert the DataFrame to an RDD to achieve our goal.\n",
    "\n",
    "Let's split the values column into two columns: x1 and x2. The first 4 values will be in column x1 and the remaining values will be in column x2."
   ]
  },
  {
   "cell_type": "code",
   "execution_count": 198,
   "metadata": {},
   "outputs": [
    {
     "data": {
      "text/plain": [
       "[Row(X=(21.0, 6, 160.0, 110), Y=(3.9, 2.62, 16.46, 0, 1, 4, 4), model='Mazda RX4'),\n",
       " Row(X=(21.0, 6, 160.0, 110), Y=(3.9, 2.875, 17.02, 0, 1, 4, 4), model='Mazda RX4 Wag'),\n",
       " Row(X=(22.8, 4, 108.0, 93), Y=(3.85, 2.32, 18.61, 1, 1, 4, 1), model='Datsun 710'),\n",
       " Row(X=(21.4, 6, 258.0, 110), Y=(3.08, 3.215, 19.44, 1, 0, 3, 1), model='Hornet 4 Drive'),\n",
       " Row(X=(18.7, 8, 360.0, 175), Y=(3.15, 3.44, 17.02, 0, 0, 3, 2), model='Hornet Sportabout')]"
      ]
     },
     "execution_count": 198,
     "metadata": {},
     "output_type": "execute_result"
    }
   ],
   "source": [
    "mtcars_rdd_2 = mtcars.rdd.map(lambda x : Row(model=x[0], X = x[1:5], Y = x[5:] ))\n",
    "mtcars_rdd_2.take(5)"
   ]
  },
  {
   "cell_type": "code",
   "execution_count": 199,
   "metadata": {},
   "outputs": [
    {
     "name": "stdout",
     "output_type": "stream",
     "text": [
      "+---------------------+--------------------------------+-----------------+\n",
      "|X                    |Y                               |model            |\n",
      "+---------------------+--------------------------------+-----------------+\n",
      "|[21.0, 6, 160.0, 110]|[3.9, 2.62, 16.46, 0, 1, 4, 4]  |Mazda RX4        |\n",
      "|[21.0, 6, 160.0, 110]|[3.9, 2.875, 17.02, 0, 1, 4, 4] |Mazda RX4 Wag    |\n",
      "|[22.8, 4, 108.0, 93] |[3.85, 2.32, 18.61, 1, 1, 4, 1] |Datsun 710       |\n",
      "|[21.4, 6, 258.0, 110]|[3.08, 3.215, 19.44, 1, 0, 3, 1]|Hornet 4 Drive   |\n",
      "|[18.7, 8, 360.0, 175]|[3.15, 3.44, 17.02, 0, 0, 3, 2] |Hornet Sportabout|\n",
      "+---------------------+--------------------------------+-----------------+\n",
      "only showing top 5 rows\n",
      "\n"
     ]
    }
   ],
   "source": [
    "mtcars_df_2 = spark.createDataFrame(mtcars_rdd_2)\n",
    "mtcars_df_2.show(n=5, truncate=False)"
   ]
  },
  {
   "cell_type": "code",
   "execution_count": null,
   "metadata": {},
   "outputs": [],
   "source": []
  }
 ],
 "metadata": {
  "kernelspec": {
   "display_name": "Python 3",
   "language": "python",
   "name": "python3"
  },
  "language_info": {
   "codemirror_mode": {
    "name": "ipython",
    "version": 3
   },
   "file_extension": ".py",
   "mimetype": "text/x-python",
   "name": "python",
   "nbconvert_exporter": "python",
   "pygments_lexer": "ipython3",
   "version": "3.6.9"
  }
 },
 "nbformat": 4,
 "nbformat_minor": 4
}
